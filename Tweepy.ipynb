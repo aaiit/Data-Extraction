{
 "cells": [
  {
   "cell_type": "code",
   "execution_count": 111,
   "metadata": {
    "colab": {},
    "colab_type": "code",
    "id": "YfvO2cGozTxH"
   },
   "outputs": [],
   "source": [
    "# Imports\n",
    "import tweepy\n",
    "from time import sleep\n",
    "import json\n",
    "import pandas as pd\n",
    "from functools import reduce"
   ]
  },
  {
   "cell_type": "code",
   "execution_count": 2,
   "metadata": {
    "colab": {},
    "colab_type": "code",
    "id": "OxTeEL05zTxX"
   },
   "outputs": [],
   "source": [
    "# Constants\n",
    "consumer_key='UFkzPnRg6teYYVpopicJlHu2L'\n",
    "consumer_secret='CNuHKlXlI4nY2YtX1RFFwthZQ0ziebfkLfrxd6T6xZp9FX7w7P'"
   ]
  },
  {
   "cell_type": "code",
   "execution_count": 3,
   "metadata": {
    "colab": {},
    "colab_type": "code",
    "id": "Y77Z0nHGzTxi"
   },
   "outputs": [],
   "source": [
    "# Authentificate and construct the api\n",
    "auth = tweepy.OAuthHandler(consumer_key, consumer_secret)\n",
    "api=tweepy.API(auth,timeout=11)"
   ]
  },
  {
   "cell_type": "markdown",
   "metadata": {
    "colab_type": "text",
    "id": "qd-N30Y5zTxt"
   },
   "source": [
    "<h1> \n",
    "    Search for a list of tweets using a query.\n",
    "    </h1>"
   ]
  },
  {
   "cell_type": "code",
   "execution_count": 4,
   "metadata": {
    "colab": {},
    "colab_type": "code",
    "id": "5PSggi21zTxw"
   },
   "outputs": [],
   "source": [
    "# Search for tweets by keywords, and fields\n",
    "# query : text to look for.\n",
    "query='corona'\n",
    "# lang : language ,ISO-code\n",
    "# result_type : sort them by popularity or date\n",
    "# count : maximum of how many to return \n",
    "# include_entities : return used hashtags, and users mentionned in the tweet.\n",
    "results=api.search(q=query, lang='fr',result_type='mixed', count=1000, include_entities=False)"
   ]
  },
  {
   "cell_type": "markdown",
   "metadata": {
    "colab_type": "text",
    "id": "wkgQjsBizTzZ"
   },
   "source": [
    "<h1>\n",
    "    FUNCTIONS\n",
    "    </h1>"
   ]
  },
  {
   "cell_type": "markdown",
   "metadata": {
    "colab_type": "text",
    "id": "wkgQjsBizTzZ"
   },
   "source": [
    "<h1>\n",
    "    Search for tweets published by a certain user identified  (user_id)\n",
    "    </h1>"
   ]
  },
  {
   "cell_type": "code",
   "execution_count": 162,
   "metadata": {
    "colab": {},
    "colab_type": "code",
    "id": "4Vx4tFVCzTzc"
   },
   "outputs": [],
   "source": [
    "# Now search user timeline\n",
    "# the 'page' arg is the index of which page to access, 0: first page, 1: second page, 2: third.... so on.\n",
    "timeline=api.user_timeline(user_id, count=20, page=0, include_entities=False, tweet_mode='extended',trim_user=True)"
   ]
  },
  {
   "cell_type": "code",
   "execution_count": 163,
   "metadata": {
    "collapsed": true
   },
   "outputs": [
    {
     "name": "stdout",
     "output_type": "stream",
     "text": [
      "{\n",
      "    \"created_at\": \"Sat Jul 25 15:27:16 +0000 2020\",\n",
      "    \"id\": 1287046770761977856,\n",
      "    \"id_str\": \"1287046770761977856\",\n",
      "    \"full_text\": \"RT @XpressBengaluru: 5,072 COVID-19 cases reported in Karnataka. BIEC to open 6500 beds in 1st phase on Monday. One crore saplings to be pl\\u2026\",\n",
      "    \"truncated\": false,\n",
      "    \"display_text_range\": [\n",
      "        0,\n",
      "        140\n",
      "    ],\n",
      "    \"source\": \"<a href=\\\"https://about.twitter.com/products/tweetdeck\\\" rel=\\\"nofollow\\\">TweetDeck</a>\",\n",
      "    \"in_reply_to_status_id\": null,\n",
      "    \"in_reply_to_status_id_str\": null,\n",
      "    \"in_reply_to_user_id\": null,\n",
      "    \"in_reply_to_user_id_str\": null,\n",
      "    \"in_reply_to_screen_name\": null,\n",
      "    \"user\": {\n",
      "        \"id\": 94761188,\n",
      "        \"id_str\": \"94761188\"\n",
      "    },\n",
      "    \"geo\": null,\n",
      "    \"coordinates\": null,\n",
      "    \"place\": null,\n",
      "    \"contributors\": null,\n",
      "    \"retweeted_status\": {\n",
      "        \"created_at\": \"Sat Jul 25 15:20:13 +0000 2020\",\n",
      "        \"id\": 1287044994570706945,\n",
      "        \"id_str\": \"1287044994570706945\",\n",
      "        \"full_text\": \"5,072 COVID-19 cases reported in Karnataka. BIEC to open 6500 beds in 1st phase on Monday. One crore saplings to be planted in State to mark BJP govt anniversary. \\n\\n@preejap13 &amp; @vinodkumart5 gives more updates\\nEditing: @MeghanaSastry https://t.co/7n9DzyO8Rz\",\n",
      "        \"truncated\": false,\n",
      "        \"display_text_range\": [\n",
      "            0,\n",
      "            238\n",
      "        ],\n",
      "        \"extended_entities\": {\n",
      "            \"media\": [\n",
      "                {\n",
      "                    \"id\": 1287044951549702144,\n",
      "                    \"id_str\": \"1287044951549702144\",\n",
      "                    \"indices\": [\n",
      "                        239,\n",
      "                        262\n",
      "                    ],\n",
      "                    \"media_url\": \"http://pbs.twimg.com/ext_tw_video_thumb/1287044951549702144/pu/img/SGEjQPTDx9mwLBME.jpg\",\n",
      "                    \"media_url_https\": \"https://pbs.twimg.com/ext_tw_video_thumb/1287044951549702144/pu/img/SGEjQPTDx9mwLBME.jpg\",\n",
      "                    \"url\": \"https://t.co/7n9DzyO8Rz\",\n",
      "                    \"display_url\": \"pic.twitter.com/7n9DzyO8Rz\",\n",
      "                    \"expanded_url\": \"https://twitter.com/XpressBengaluru/status/1287044994570706945/video/1\",\n",
      "                    \"type\": \"video\",\n",
      "                    \"sizes\": {\n",
      "                        \"thumb\": {\n",
      "                            \"w\": 150,\n",
      "                            \"h\": 150,\n",
      "                            \"resize\": \"crop\"\n",
      "                        },\n",
      "                        \"small\": {\n",
      "                            \"w\": 640,\n",
      "                            \"h\": 352,\n",
      "                            \"resize\": \"fit\"\n",
      "                        },\n",
      "                        \"medium\": {\n",
      "                            \"w\": 640,\n",
      "                            \"h\": 352,\n",
      "                            \"resize\": \"fit\"\n",
      "                        },\n",
      "                        \"large\": {\n",
      "                            \"w\": 640,\n",
      "                            \"h\": 352,\n",
      "                            \"resize\": \"fit\"\n",
      "                        }\n",
      "                    },\n",
      "                    \"video_info\": {\n",
      "                        \"aspect_ratio\": [\n",
      "                            20,\n",
      "                            11\n",
      "                        ],\n",
      "                        \"duration_millis\": 116888,\n",
      "                        \"variants\": [\n",
      "                            {\n",
      "                                \"bitrate\": 832000,\n",
      "                                \"content_type\": \"video/mp4\",\n",
      "                                \"url\": \"https://video.twimg.com/ext_tw_video/1287044951549702144/pu/vid/640x352/3Isc8C0SNh8uxTlQ.mp4?tag=10\"\n",
      "                            },\n",
      "                            {\n",
      "                                \"content_type\": \"application/x-mpegURL\",\n",
      "                                \"url\": \"https://video.twimg.com/ext_tw_video/1287044951549702144/pu/pl/h9LGV3rI5lJXe3q1.m3u8?tag=10\"\n",
      "                            },\n",
      "                            {\n",
      "                                \"bitrate\": 256000,\n",
      "                                \"content_type\": \"video/mp4\",\n",
      "                                \"url\": \"https://video.twimg.com/ext_tw_video/1287044951549702144/pu/vid/490x270/n8zm50sjpzakyJuF.mp4?tag=10\"\n",
      "                            }\n",
      "                        ]\n",
      "                    },\n",
      "                    \"additional_media_info\": {\n",
      "                        \"monetizable\": false\n",
      "                    }\n",
      "                }\n",
      "            ]\n",
      "        },\n",
      "        \"source\": \"<a href=\\\"http://twitter.com/download/android\\\" rel=\\\"nofollow\\\">Twitter for Android</a>\",\n",
      "        \"in_reply_to_status_id\": null,\n",
      "        \"in_reply_to_status_id_str\": null,\n",
      "        \"in_reply_to_user_id\": null,\n",
      "        \"in_reply_to_user_id_str\": null,\n",
      "        \"in_reply_to_screen_name\": null,\n",
      "        \"user\": {\n",
      "            \"id\": 1072867156046503936,\n",
      "            \"id_str\": \"1072867156046503936\"\n",
      "        },\n",
      "        \"geo\": null,\n",
      "        \"coordinates\": null,\n",
      "        \"place\": null,\n",
      "        \"contributors\": null,\n",
      "        \"is_quote_status\": false,\n",
      "        \"retweet_count\": 15,\n",
      "        \"favorite_count\": 14,\n",
      "        \"favorited\": false,\n",
      "        \"retweeted\": false,\n",
      "        \"possibly_sensitive\": false,\n",
      "        \"lang\": \"en\"\n",
      "    },\n",
      "    \"is_quote_status\": false,\n",
      "    \"retweet_count\": 15,\n",
      "    \"favorite_count\": 0,\n",
      "    \"favorited\": false,\n",
      "    \"retweeted\": false,\n",
      "    \"lang\": \"en\"\n",
      "}\n"
     ]
    }
   ],
   "source": [
    "print(json.dumps(timeline[4]._json,indent=4))"
   ]
  },
  {
   "cell_type": "markdown",
   "metadata": {},
   "source": [
    "<h1> Get Replies associated with a tweet</h1>"
   ]
  },
  {
   "cell_type": "code",
   "execution_count": 78,
   "metadata": {},
   "outputs": [],
   "source": [
    "def get_replies(api,user_screen_name,tweet_id,query='',count=10,max_explored=100):\n",
    "    '''\n",
    "    user_screen_name: username of the one who published that tweet\n",
    "    '''\n",
    "    replies=[]\n",
    "    for reply in tweepy.Cursor(api.search,q=f'to:{user_screen_name}', since_id=tweet_id,\n",
    "                             trim_user=True,tweet_mode='extended',result_type='recent',timeout=max_explored//10).items(max_explored):\n",
    "        # check if this tweet is a reply     and     it's a reply to 'tweet_id'      and it's related to the 'query'.\n",
    "        if hasattr(reply, 'in_reply_to_status_id') and reply.in_reply_to_status_id==tweet_id and query in reply.full_text:\n",
    "            replies.append(reply)\n",
    "        # After getting 'count' tweets related to 'query', return them\n",
    "        if len(replies)>=count:\n",
    "            break\n",
    "    return replies"
   ]
  },
  {
   "cell_type": "markdown",
   "metadata": {},
   "source": [
    "<h1> Search for tweets using a query</h1>"
   ]
  },
  {
   "cell_type": "code",
   "execution_count": 145,
   "metadata": {},
   "outputs": [],
   "source": [
    "# helper function\n",
    "def get_attr(obj,attrs):\n",
    "    try:\n",
    "        res=reduce(lambda o,a: getattr(o,a),[obj]+[key for key in attrs.strip().split('.')])\n",
    "        res=[(True,res)]\n",
    "    except Exception :\n",
    "        res= [(False,None)]\n",
    "    return res\n",
    "\n",
    "# main function to call\n",
    "def search_for_tweets(api,query,language,result_type,count,keys):\n",
    "    results=[tweet for tweet in tweepy.Cursor\n",
    "          (api.search, q=query, lang=language, result_type=result_type, \n",
    "           include_entities=False, tweet_mode='extended',trim_user=False).items(count)]\n",
    "    \n",
    "    return [{k:res[1] for k in keys for res in get_attr(tweet,k) if res[0] } for tweet in results]"
   ]
  },
  {
   "cell_type": "markdown",
   "metadata": {},
   "source": [
    "<h1> Get user timeline (recent tweets created or retweeted) </h1>"
   ]
  },
  {
   "cell_type": "code",
   "execution_count": null,
   "metadata": {},
   "outputs": [],
   "source": [
    "def get_user_timeline(api,user):\n",
    "    '''\n",
    "    user: could be user_id or user_screen_name\n",
    "    '''\n",
    "    "
   ]
  }
 ],
 "metadata": {
  "colab": {
   "name": "Tweepy-checkpoint.ipynb",
   "provenance": []
  },
  "kernelspec": {
   "display_name": "Python 3",
   "language": "python",
   "name": "python3"
  },
  "language_info": {
   "codemirror_mode": {
    "name": "ipython",
    "version": 3
   },
   "file_extension": ".py",
   "mimetype": "text/x-python",
   "name": "python",
   "nbconvert_exporter": "python",
   "pygments_lexer": "ipython3",
   "version": "3.8.2"
  }
 },
 "nbformat": 4,
 "nbformat_minor": 1
}
