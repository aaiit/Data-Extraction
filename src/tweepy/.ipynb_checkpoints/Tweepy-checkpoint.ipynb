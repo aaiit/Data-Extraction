{
 "cells": [
  {
   "cell_type": "code",
   "execution_count": 3,
   "metadata": {},
   "outputs": [],
   "source": [
    "# Imports\n",
    "import tweepy\n",
    "from time import sleep\n",
    "import json\n"
   ]
  },
  {
   "cell_type": "code",
   "execution_count": 4,
   "metadata": {},
   "outputs": [],
   "source": [
    "# Constants\n",
    "consumer_key='UFkzPnRg6teYYVpopicJlHu2L'\n",
    "consumer_secret='CNuHKlXlI4nY2YtX1RFFwthZQ0ziebfkLfrxd6T6xZp9FX7w7P'"
   ]
  },
  {
   "cell_type": "code",
   "execution_count": 5,
   "metadata": {},
   "outputs": [],
   "source": [
    "# Authentificate and construct the api\n",
    "auth = tweepy.OAuthHandler(consumer_key, consumer_secret)\n",
    "api=tweepy.API(auth,timeout=11)"
   ]
  },
  {
   "cell_type": "markdown",
   "metadata": {},
   "source": [
    "<h1> \n",
    "    Search for a list of tweets using a query.\n",
    "    </h1>"
   ]
  },
  {
   "cell_type": "code",
   "execution_count": 10,
   "metadata": {},
   "outputs": [],
   "source": [
    "# Search for tweets by keywords, and fields\n",
    "# query : text to look for.\n",
    "query='corona'\n",
    "# lang : language ,ISO-code\n",
    "# result_type : sort them by popularity or date\n",
    "# count : maximum of how many to return \n",
    "# include_entities : return used hashtags, and users mentionned in the tweet.\n",
    "results=api.search(q=query, lang='ar',result_type='mixed', count=20, include_entities=False)"
   ]
  },
  {
   "cell_type": "code",
   "execution_count": 11,
   "metadata": {},
   "outputs": [
    {
     "name": "stdout",
     "output_type": "stream",
     "text": [
      "2020-07-23 14:56:51,\t 1286314339411124224,\t 🎥 #فيديو | رداً على سؤال الزميلة في #عكاظ أمل السعيد @amal222424.. متحدث #الصحة: لا أدلة علمية أو بحثية يمكن الاستن… https://t.co/McTuvI8t3M,\t True\n",
      "\n",
      "\n",
      "2020-07-24 18:34:58,\t 1286731615880847360,\t الرئيس الأميركي دونالد #ترامب: نحمّل #الصين المسؤولية الكاملة عن إخفاء المعلومات حول فيروس كورونا وإطلاقه حول العال… https://t.co/quIoIJCpxU,\t True\n",
      "\n",
      "\n",
      "2020-07-24 23:40:00,\t 1286808380242354178,\t #الصحة_العالمية تصدم الجميع بشأن #كورونا.. وتعلن \"الخبر السيء\"\n",
      "#Covid19 #corona #كوفيد_19 #سكاي_أخبار\n",
      "https://t.co/c1wPghtnLV,\t False\n",
      "\n",
      "\n",
      "2020-07-25 08:56:24,\t 1286948405093294080,\t و تصرخ الدرة، انا لزيزه بالمرة ، الله يحفظها من كل مكروه #طبيب#نساء#ولاده#سمير_عباس#شد_بطن#إتوال#فقيه#بخش#مستشفى#نس… https://t.co/oRiai1cNwp,\t True\n",
      "\n",
      "\n",
      "2020-07-25 08:55:32,\t 1286948186783916032,\t RT @OKAZ_online: «#الصحة_العالمية»: لقاح #كورونا يستغرق 6 أشهر \n",
      "#عاجل \n",
      "#عكاظ \n",
      "#ان_تكون_اولا \n",
      "#تطبيق_عكاظ\n",
      "#كورونا  #corona\n",
      "@WHO\n",
      "https://t.co…,\t False\n",
      "\n",
      "\n",
      "2020-07-25 08:54:00,\t 1286947800723402753,\t RT @alain_4u: بيانات هيئة الصحة العامة في #إنجلترا أظهرت أن من يتراوح لديهم مؤشر كتلة الجسم بين 30 و35 يزيد بينهم خطر الوفاة بـ\"كوفيد-19\" ب…,\t False\n",
      "\n",
      "\n",
      "2020-07-25 08:50:50,\t 1286947003864363009,\t @h_o_sseini_313 با دعاى شما الحمدلله بهترم خانم حسينى عزيزم❤️,\t False\n",
      "\n",
      "\n",
      "2020-07-25 08:50:20,\t 1286946875954941953,\t @corona_fighter_ 👌👌\n",
      "حالتون بهتره ان شاءالله ؟,\t False\n",
      "\n",
      "\n",
      "2020-07-25 08:47:32,\t 1286946173589188609,\t نحو 40 دولة تسجل ارتفاعا قياسيا في إصابات #كورونا خلال الأسبوع الماضي https://t.co/B5wJEh76ug,\t False\n",
      "\n",
      "\n",
      "2020-07-25 08:46:35,\t 1286945933067005952,\t RT @AymanAbdulaal4: @corona_020 @abdual2030 @AlaslaniO @KSASociety لم يرد ابدا ان من بال في المسجد كان صحابيا.. و إن كنت صادقا\n",
      "...قل لنا إس…,\t False\n",
      "\n",
      "\n",
      "2020-07-25 08:45:00,\t 1286945533853081600,\t بيانات هيئة الصحة العامة في #إنجلترا أظهرت أن من يتراوح لديهم مؤشر كتلة الجسم بين 30 و35 يزيد بينهم خطر الوفاة بـ\"ك… https://t.co/QIfjmqAnEE,\t True\n",
      "\n",
      "\n",
      "2020-07-25 08:44:48,\t 1286945484041523200,\t @nikikazemii @pdrmsh خدا شمارو هم براى ما حفظ كنه خانم معلم عزيز❤️,\t False\n",
      "\n",
      "\n",
      "2020-07-25 08:40:00,\t 1286944275599626241,\t السيد نصرالله يرتدي الكمامة: هكذا ننتصر بالمعركة ضد كورونا (فيديو) \n",
      "https://t.co/Wp79qg0vQY \n",
      "#LBCI #LBCINews #LBCILebanon,\t False\n",
      "\n",
      "\n",
      "2020-07-25 08:38:53,\t 1286943997156569088,\t ابشروا بالخير و تفاءلوا\n",
      "#كورونا #الناس #الامانة #الحياة #شهر_رمضان #صلة_الرحم #الحقيقة #covid19 #corona #coronavirus #covid #covid19,\t False\n",
      "\n",
      "\n",
      "2020-07-25 08:33:02,\t 1286942522749591554,\t مركز روسي فدرالي يشارك بمناقصة الصحة العالمية لتوريد لقاح ضد #كورونا https://t.co/6Q2QhZnruH,\t False\n",
      "\n",
      "\n",
      "2020-07-25 08:30:09,\t 1286941796858298368,\t @Namira_mkt لازمه 😎,\t False\n",
      "\n",
      "\n",
      "2020-07-25 08:29:48,\t 1286941708387848193,\t @corona_fighter_ ماشاءالله وبا حول ولاقوه الا بالله👌😍,\t False\n",
      "\n",
      "\n",
      "2020-07-25 08:29:22,\t 1286941602800381952,\t RT @LBCILebanon: كاهن رعيتي بصرما وعابا أعلن شفاءه من كورونا  \n",
      "https://t.co/4gNyMTMqSY \n",
      "#LBCI #LBCINews #LBCILebanon,\t False\n",
      "\n",
      "\n",
      "2020-07-25 08:28:27,\t 1286941369576181760,\t كاهن رعيتي بصرما وعابا أعلن شفاءه من كورونا  \n",
      "https://t.co/4gNyMTMqSY \n",
      "#LBCI #LBCINews #LBCILebanon,\t False\n",
      "\n",
      "\n",
      "2020-07-25 08:27:27,\t 1286941116823220225,\t @masht_almaa 😂😂😂عزيزم,\t False\n",
      "\n",
      "\n"
     ]
    }
   ],
   "source": [
    "# Iterate over the returned tweets, then print'em\n",
    "for tweet in results:\n",
    "    print(f\"{tweet.created_at},\\t {tweet.id},\\t {tweet.text},\\t {tweet.truncated}\\n\\n\")"
   ]
  },
  {
   "cell_type": "markdown",
   "metadata": {},
   "source": [
    "# Save Results"
   ]
  },
  {
   "cell_type": "code",
   "execution_count": 12,
   "metadata": {},
   "outputs": [],
   "source": [
    "ats=[tweet.created_at for tweet in results]\n",
    "ids=[tweet.id for tweet in results]\n",
    "texts=[tweet.text for tweet in results]\n",
    "trs=[tweet.truncated for tweet in results]\n",
    "import pandas as pd\n",
    "df = pd.DataFrame({'created_at':ats,\"id\":ids,\"text\":texts,\"truncated\":trs}) \n",
    "df.to_csv('data.csv', index=False, encoding='utf-8')"
   ]
  },
  {
   "cell_type": "markdown",
   "metadata": {},
   "source": [
    "<h1>\n",
    "    Search get detailled informations about a certain tweet whose (idd).\n",
    "    </h1>"
   ]
  },
  {
   "cell_type": "code",
   "execution_count": 12,
   "metadata": {},
   "outputs": [],
   "source": [
    "# Search for a tweet by its id; 'idd' is just taken from a tweet above.\n",
    "idd=1286505134122557442\n",
    "# tweet_mode : extended(compat) for more(less) informations about the results.\n",
    "# trim_user : True=to return only the user id, False: return all his informations.\n",
    "tweet=api.get_status(idd,trim_user=True,tweet_mode='extended')"
   ]
  },
  {
   "cell_type": "code",
   "execution_count": 13,
   "metadata": {},
   "outputs": [
    {
     "data": {
      "text/plain": [
       "{'created_at': 'Fri Jul 24 03:35:00 +0000 2020',\n",
       " 'id': 1286505134122557442,\n",
       " 'id_str': '1286505134122557442',\n",
       " 'full_text': \"A 14-year-old #COVID19 patient was allegedly sexually assaulted inside Delhi's biggest quarantine facility, the Sardar Vallabhai Patel corona care centre, by two patients when she went outside to use washroom. \\nhttps://t.co/6bZzc7e6NN\",\n",
       " 'truncated': False,\n",
       " 'display_text_range': [0, 234],\n",
       " 'entities': {'hashtags': [{'text': 'COVID19', 'indices': [14, 22]}],\n",
       "  'symbols': [],\n",
       "  'user_mentions': [],\n",
       "  'urls': [{'url': 'https://t.co/6bZzc7e6NN',\n",
       "    'expanded_url': 'https://www.newindianexpress.com/cities/delhi/2020/jul/23/14-year-old-covid-19-positive-girl-sexually-assaulted-by-another-patient-at-care-centre-in-delhi-2173888.html',\n",
       "    'display_url': 'newindianexpress.com/cities/delhi/2…',\n",
       "    'indices': [211, 234]}]},\n",
       " 'source': '<a href=\"https://buffer.com\" rel=\"nofollow\">Buffer</a>',\n",
       " 'in_reply_to_status_id': None,\n",
       " 'in_reply_to_status_id_str': None,\n",
       " 'in_reply_to_user_id': None,\n",
       " 'in_reply_to_user_id_str': None,\n",
       " 'in_reply_to_screen_name': None,\n",
       " 'user': {'id': 94761188, 'id_str': '94761188'},\n",
       " 'geo': None,\n",
       " 'coordinates': None,\n",
       " 'place': None,\n",
       " 'contributors': None,\n",
       " 'is_quote_status': False,\n",
       " 'retweet_count': 9,\n",
       " 'favorite_count': 15,\n",
       " 'favorited': False,\n",
       " 'retweeted': False,\n",
       " 'possibly_sensitive': False,\n",
       " 'possibly_sensitive_appealable': False,\n",
       " 'lang': 'en'}"
      ]
     },
     "execution_count": 13,
     "metadata": {},
     "output_type": "execute_result"
    }
   ],
   "source": [
    "tweet._json"
   ]
  },
  {
   "cell_type": "code",
   "execution_count": 8,
   "metadata": {},
   "outputs": [
    {
     "data": {
      "text/plain": [
       "('2020-07-24 03:35:00',\n",
       " 1286505134122557442,\n",
       " \"A 14-year-old #COVID19 patient was allegedly sexually assaulted inside Delhi's biggest quarantine facility, the Sardar Vallabhai Patel corona care centre, by two patients when she went outside to use washroom. \\nhttps://t.co/6bZzc7e6NN\",\n",
       " False)"
      ]
     },
     "execution_count": 8,
     "metadata": {},
     "output_type": "execute_result"
    }
   ],
   "source": [
    "# if : tweet_mode==extended, use tweet.full_text to access the tweet's text.\n",
    "# otherwise use tweet.text\n",
    "str(tweet.created_at),tweet.id,tweet.full_text,tweet.truncated"
   ]
  },
  {
   "cell_type": "code",
   "execution_count": 9,
   "metadata": {},
   "outputs": [],
   "source": [
    "# Now search for user by id\n",
    "user_id=94761188\n",
    "user=api.get_user(user_id)"
   ]
  },
  {
   "cell_type": "code",
   "execution_count": 19,
   "metadata": {
    "collapsed": true
   },
   "outputs": [
    {
     "data": {
      "text/plain": [
       "{'id': 94761188,\n",
       " 'id_str': '94761188',\n",
       " 'name': 'The New Indian Express',\n",
       " 'screen_name': 'NewIndianXpress',\n",
       " 'location': 'Chennai',\n",
       " 'profile_location': None,\n",
       " 'description': 'All the tweets for breaking news & views.\\nFacebook: https://t.co/2JWnDQzN07\\nYouTube: https://t.co/j6jQDbuEjK',\n",
       " 'url': 'https://t.co/bThxeYSjGT',\n",
       " 'entities': {'url': {'urls': [{'url': 'https://t.co/bThxeYSjGT',\n",
       "     'expanded_url': 'http://www.newindianexpress.com',\n",
       "     'display_url': 'newindianexpress.com',\n",
       "     'indices': [0, 23]}]},\n",
       "  'description': {'urls': [{'url': 'https://t.co/2JWnDQzN07',\n",
       "     'expanded_url': 'https://www.facebook.com/thenewindianxpress/',\n",
       "     'display_url': 'facebook.com/thenewindianxp…',\n",
       "     'indices': [52, 75]},\n",
       "    {'url': 'https://t.co/j6jQDbuEjK',\n",
       "     'expanded_url': 'https://www.youtube.com/user/thenewindianxpress/videos',\n",
       "     'display_url': 'youtube.com/user/thenewind…',\n",
       "     'indices': [85, 108]}]}},\n",
       " 'protected': False,\n",
       " 'followers_count': 445253,\n",
       " 'friends_count': 552,\n",
       " 'listed_count': 1400,\n",
       " 'created_at': 'Sat Dec 05 09:24:55 +0000 2009',\n",
       " 'favourites_count': 540,\n",
       " 'utc_offset': None,\n",
       " 'time_zone': None,\n",
       " 'geo_enabled': True,\n",
       " 'verified': True,\n",
       " 'statuses_count': 586616,\n",
       " 'lang': None,\n",
       " 'status': {'created_at': 'Fri Jul 24 23:00:02 +0000 2020',\n",
       "  'id': 1286798322141978625,\n",
       "  'id_str': '1286798322141978625',\n",
       "  'text': 'The Public Affairs Commission of the Syro Malabar Church urged the government to take immediate action to protect f… https://t.co/xlXoxkv3Dh',\n",
       "  'truncated': True,\n",
       "  'entities': {'hashtags': [],\n",
       "   'symbols': [],\n",
       "   'user_mentions': [],\n",
       "   'urls': [{'url': 'https://t.co/xlXoxkv3Dh',\n",
       "     'expanded_url': 'https://twitter.com/i/web/status/1286798322141978625',\n",
       "     'display_url': 'twitter.com/i/web/status/1…',\n",
       "     'indices': [117, 140]}]},\n",
       "  'source': '<a href=\"https://buffer.com\" rel=\"nofollow\">Buffer</a>',\n",
       "  'in_reply_to_status_id': None,\n",
       "  'in_reply_to_status_id_str': None,\n",
       "  'in_reply_to_user_id': None,\n",
       "  'in_reply_to_user_id_str': None,\n",
       "  'in_reply_to_screen_name': None,\n",
       "  'geo': None,\n",
       "  'coordinates': None,\n",
       "  'place': None,\n",
       "  'contributors': None,\n",
       "  'is_quote_status': False,\n",
       "  'retweet_count': 0,\n",
       "  'favorite_count': 3,\n",
       "  'favorited': False,\n",
       "  'retweeted': False,\n",
       "  'possibly_sensitive': False,\n",
       "  'lang': 'en'},\n",
       " 'contributors_enabled': False,\n",
       " 'is_translator': False,\n",
       " 'is_translation_enabled': False,\n",
       " 'profile_background_color': '022330',\n",
       " 'profile_background_image_url': 'http://abs.twimg.com/images/themes/theme15/bg.png',\n",
       " 'profile_background_image_url_https': 'https://abs.twimg.com/images/themes/theme15/bg.png',\n",
       " 'profile_background_tile': True,\n",
       " 'profile_image_url': 'http://pbs.twimg.com/profile_images/1094836139217711105/gDLAVTWn_normal.jpg',\n",
       " 'profile_image_url_https': 'https://pbs.twimg.com/profile_images/1094836139217711105/gDLAVTWn_normal.jpg',\n",
       " 'profile_banner_url': 'https://pbs.twimg.com/profile_banners/94761188/1589957053',\n",
       " 'profile_link_color': '0000FF',\n",
       " 'profile_sidebar_border_color': 'FFFFFF',\n",
       " 'profile_sidebar_fill_color': 'C0DFEC',\n",
       " 'profile_text_color': '333333',\n",
       " 'profile_use_background_image': True,\n",
       " 'has_extended_profile': False,\n",
       " 'default_profile': False,\n",
       " 'default_profile_image': False,\n",
       " 'following': None,\n",
       " 'follow_request_sent': None,\n",
       " 'notifications': None,\n",
       " 'translator_type': 'none'}"
      ]
     },
     "execution_count": 19,
     "metadata": {},
     "output_type": "execute_result"
    }
   ],
   "source": [
    "user._json"
   ]
  },
  {
   "cell_type": "markdown",
   "metadata": {},
   "source": [
    "<h1>\n",
    "    Search for tweets published by a certain user identified  (user_id)\n",
    "    <"
   ]
  },
  {
   "cell_type": "code",
   "execution_count": 16,
   "metadata": {},
   "outputs": [],
   "source": [
    "# Now search user timeline\n",
    "# the 'page' arg is the index of which page to access, 0: first page, 1: second page, 2: third.... so on.\n",
    "timeline=api.user_timeline(user_id, count=10, page=0, tweet_mode='extended')"
   ]
  },
  {
   "cell_type": "code",
   "execution_count": 17,
   "metadata": {
    "scrolled": false
   },
   "outputs": [
    {
     "name": "stdout",
     "output_type": "stream",
     "text": [
      "1286805878331576322,\t2020-07-24 23:30:03,\tThe market share of #Chinese players in the Indian #smartphone market has fallen by 9 per cent in just three months because of supply chain constraints and growing anti-China sentiment.\n",
      "#IndiaChinaStandoff @TNIEBiz \n",
      "https://t.co/beuynW2rRH,\tFalse\n",
      "\n",
      "\n",
      "1286798322141978625,\t2020-07-24 23:00:02,\tThe Public Affairs Commission of the Syro Malabar Church urged the government to take immediate action to protect farmers, farms and livestock from wildlife attacks.\n",
      "@xpresskerala \n",
      "https://t.co/xzS2sVXWCu,\tFalse\n",
      "\n",
      "\n",
      "1286790834713767938,\t2020-07-24 22:30:17,\tUK Prime Minister #BorisJohnson has dismissed campaigners seeking to oppose vaccinations, describing so-called #antivaxxers as “nuts’’.\n",
      "https://t.co/l8LSDfESzU,\tFalse\n",
      "\n",
      "\n",
      "1286775681582608385,\t2020-07-24 21:30:04,\tA 25-year-old man from a village near Tamil Nadu's Mayiladuthurai was arrested for allegedly raping and impregnating his 14-year-old sister-in-law.\n",
      "@xpresstn \n",
      "https://t.co/i7f8Y0QDHy,\tFalse\n",
      "\n",
      "\n",
      "1286772492179185664,\t2020-07-24 21:17:23,\t1640 cases of #CoronavirusOutbreak in Telangana. Reported deaths- 8\n",
      "Karimnagar and Peddapalli see sharp spike in cases \n",
      "\n",
      "@NewIndianXpress https://t.co/0DBQ0QKVnZ,\tFalse\n",
      "\n",
      "\n",
      "1286772419030470656,\t2020-07-24 21:17:06,\tA woman died after an auto rickshaw she was travelling, washed away in a swollen stream at Kistarampally in Nalgonda district of #Telangana on Friday.\n",
      "@XpressHyderabad @NewIndianXpress https://t.co/PgaZZUeiNV,\tFalse\n",
      "\n",
      "\n",
      "1286772153593892871,\t2020-07-24 21:16:03,\t#Hubballi District Minister @JagadishShettar and Union Minister @JoshiPralhad hold meeting at #Bengaluru with PWD Minister @GovindKarjol to expedite ongoing #Road/NH works in and around #HubballiDhsrwad. @NewIndianXpress @XpressBengaluru @santwana99 @ramupatil_TNIE @Amitsen_TNIE https://t.co/ZwwGX1yeqR,\tFalse\n",
      "\n",
      "\n",
      "1286772110757527553,\t2020-07-24 21:15:52,\tMigrant spl from K'taka restarting:  A Shramik Spl will run on Saturday from KSR Bengaluru to Guwahati via Odisha &amp; West Bengal. 900 psgrs have already regd for travel and 600 more are expected to register at Tripura Vasini grounds by tom @KARailway @XpressBengaluru @BBMPCOMM,\tFalse\n",
      "\n",
      "\n",
      "1286768152584454144,\t2020-07-24 21:00:09,\tActing on a complaint lodged by #News18’s associate editor Vinay Sarawagi against Youtuber #Maridhas, cyber crime wing of Chennai city police registered a case under multiple sections of the IPC and the Information Technology Act.\n",
      "@xprestn \n",
      "https://t.co/5Uae2xxONm,\tFalse\n",
      "\n",
      "\n",
      "1286761823404822528,\t2020-07-24 20:35:00,\tMuslim prayers were held in the iconic #HagiaSophia for the first time in 86 years after the reconversion of the Istanbul landmark into a mosque. https://t.co/Z4YOsl8OeT,\tFalse\n",
      "\n",
      "\n"
     ]
    }
   ],
   "source": [
    "for tweet in timeline:\n",
    "    # if the tweet was actually retweeted by the user, you'll find the full text in the 'retweeted_status' key.\n",
    "    text=tweet.retweeted_status.full_text if 'retweeted_status' in tweet._json else tweet.full_text\n",
    "    print(f'{tweet.id},\\t{tweet.created_at},\\t{text},\\t{tweet.truncated}\\n\\n')\n",
    "# timeline[1]._json,'-++-'*30,timeline[3]._json"
   ]
  }
 ],
 "metadata": {
  "kernelspec": {
   "display_name": "Python 3",
   "language": "python",
   "name": "python3"
  },
  "language_info": {
   "codemirror_mode": {
    "name": "ipython",
    "version": 3
   },
   "file_extension": ".py",
   "mimetype": "text/x-python",
   "name": "python",
   "nbconvert_exporter": "python",
   "pygments_lexer": "ipython3",
   "version": "3.7.3"
  }
 },
 "nbformat": 4,
 "nbformat_minor": 4
}
