{
 "cells": [
  {
   "cell_type": "code",
   "execution_count": 1,
   "metadata": {},
   "outputs": [],
   "source": [
    "# Imports\n",
    "import tweepy\n",
    "from time import sleep\n",
    "import json"
   ]
  },
  {
   "cell_type": "code",
   "execution_count": 2,
   "metadata": {},
   "outputs": [],
   "source": [
    "# Constants\n",
    "consumer_key='UFkzPnRg6teYYVpopicJlHu2L'\n",
    "consumer_secret='CNuHKlXlI4nY2YtX1RFFwthZQ0ziebfkLfrxd6T6xZp9FX7w7P'"
   ]
  },
  {
   "cell_type": "code",
   "execution_count": 3,
   "metadata": {},
   "outputs": [],
   "source": [
    "# Authentificate and construct the api\n",
    "auth = tweepy.OAuthHandler(consumer_key, consumer_secret)\n",
    "api=tweepy.API(auth,timeout=11)"
   ]
  },
  {
   "cell_type": "code",
   "execution_count": 18,
   "metadata": {},
   "outputs": [],
   "source": [
    "# Search for tweets by keywords, and fields\n",
    "# query : text to look for.\n",
    "query='corona covid19 covid-19'\n",
    "# lang : language ,ISO-code\n",
    "# result_type : sort them by popularity or date\n",
    "# count : maximum of how many to return \n",
    "# include_entities : return used hashtags, and users mentionned in the tweet.\n",
    "results=api.search(q=query, lang='en',result_type='mixed', count=3, include_entities=False)"
   ]
  },
  {
   "cell_type": "code",
   "execution_count": 5,
   "metadata": {},
   "outputs": [
    {
     "name": "stdout",
     "output_type": "stream",
     "text": [
      "2020-07-17 05:55:20,\t 1284003732670369794,\t No more COVID-19 testing by the Kenya government. Where did the billions allocated for #KomeshaCorona go?… https://t.co/Dp1I887qYm,\t True\n",
      "\n",
      "\n",
      "2020-07-20 03:56:35,\t 1285061013155442688,\t #JUSTIN | First COVID-19 death reported from Tirupati Temple. Former head priest Srinivasa Murthy (75) dies of COVI… https://t.co/j2CDgzZUbm,\t True\n",
      "\n",
      "\n",
      "2020-07-17 14:38:12,\t 1284135318661169152,\t #Kerala govt accepts community spread of COVID19 in  Thiruvananthapuram. The state reports 791 fresh cases, the hig… https://t.co/QysN8Q0QPC,\t True\n",
      "\n",
      "\n"
     ]
    }
   ],
   "source": [
    "# Iterate over the returned tweets, then print'em\n",
    "for tweet in results:\n",
    "    print(f\"{tweet.created_at},\\t {tweet.id},\\t {tweet.text},\\t {tweet.truncated}\\n\\n\")"
   ]
  },
  {
   "cell_type": "code",
   "execution_count": 12,
   "metadata": {},
   "outputs": [],
   "source": [
    "# Search for a tweet by its id; 'idd' is just taken from a tweet above.\n",
    "idd=1286505134122557442\n",
    "# tweet_mode : extended(compat) for more(less) informations about the results.\n",
    "# trim_user : True=to return only the user id, False: return all his informations.\n",
    "tweet=api.get_status(idd,trim_user=True,tweet_mode='extended')"
   ]
  },
  {
   "cell_type": "code",
   "execution_count": 13,
   "metadata": {},
   "outputs": [
    {
     "data": {
      "text/plain": [
       "{'created_at': 'Fri Jul 24 03:35:00 +0000 2020',\n",
       " 'id': 1286505134122557442,\n",
       " 'id_str': '1286505134122557442',\n",
       " 'full_text': \"A 14-year-old #COVID19 patient was allegedly sexually assaulted inside Delhi's biggest quarantine facility, the Sardar Vallabhai Patel corona care centre, by two patients when she went outside to use washroom. \\nhttps://t.co/6bZzc7e6NN\",\n",
       " 'truncated': False,\n",
       " 'display_text_range': [0, 234],\n",
       " 'entities': {'hashtags': [{'text': 'COVID19', 'indices': [14, 22]}],\n",
       "  'symbols': [],\n",
       "  'user_mentions': [],\n",
       "  'urls': [{'url': 'https://t.co/6bZzc7e6NN',\n",
       "    'expanded_url': 'https://www.newindianexpress.com/cities/delhi/2020/jul/23/14-year-old-covid-19-positive-girl-sexually-assaulted-by-another-patient-at-care-centre-in-delhi-2173888.html',\n",
       "    'display_url': 'newindianexpress.com/cities/delhi/2…',\n",
       "    'indices': [211, 234]}]},\n",
       " 'source': '<a href=\"https://buffer.com\" rel=\"nofollow\">Buffer</a>',\n",
       " 'in_reply_to_status_id': None,\n",
       " 'in_reply_to_status_id_str': None,\n",
       " 'in_reply_to_user_id': None,\n",
       " 'in_reply_to_user_id_str': None,\n",
       " 'in_reply_to_screen_name': None,\n",
       " 'user': {'id': 94761188, 'id_str': '94761188'},\n",
       " 'geo': None,\n",
       " 'coordinates': None,\n",
       " 'place': None,\n",
       " 'contributors': None,\n",
       " 'is_quote_status': False,\n",
       " 'retweet_count': 9,\n",
       " 'favorite_count': 15,\n",
       " 'favorited': False,\n",
       " 'retweeted': False,\n",
       " 'possibly_sensitive': False,\n",
       " 'possibly_sensitive_appealable': False,\n",
       " 'lang': 'en'}"
      ]
     },
     "execution_count": 13,
     "metadata": {},
     "output_type": "execute_result"
    }
   ],
   "source": [
    "tweet._json"
   ]
  },
  {
   "cell_type": "code",
   "execution_count": 8,
   "metadata": {},
   "outputs": [
    {
     "data": {
      "text/plain": [
       "('2020-07-24 03:35:00',\n",
       " 1286505134122557442,\n",
       " \"A 14-year-old #COVID19 patient was allegedly sexually assaulted inside Delhi's biggest quarantine facility, the Sardar Vallabhai Patel corona care centre, by two patients when she went outside to use washroom. \\nhttps://t.co/6bZzc7e6NN\",\n",
       " False)"
      ]
     },
     "execution_count": 8,
     "metadata": {},
     "output_type": "execute_result"
    }
   ],
   "source": [
    "# if : tweet_mode==extended, use tweet.full_text to access the tweet's text.\n",
    "# otherwise use tweet.text\n",
    "str(tweet.created_at),tweet.id,tweet.full_text,tweet.truncated"
   ]
  },
  {
   "cell_type": "code",
   "execution_count": 9,
   "metadata": {},
   "outputs": [],
   "source": [
    "# Now search for user by id\n",
    "user_id=94761188\n",
    "user=api.get_user(user_id)"
   ]
  },
  {
   "cell_type": "code",
   "execution_count": 16,
   "metadata": {},
   "outputs": [],
   "source": [
    "# Now search user timeline\n",
    "# the 'page' arg is the index of which page to access, 0: first page, 1: second page, 2: third.... so on.\n",
    "timeline=api.user_timeline(user_id,count=10,page=0,tweet_mode='extended')"
   ]
  },
  {
   "cell_type": "code",
   "execution_count": 17,
   "metadata": {
    "scrolled": false
   },
   "outputs": [
    {
     "name": "stdout",
     "output_type": "stream",
     "text": [
      "1286805878331576322,\t2020-07-24 23:30:03,\tThe market share of #Chinese players in the Indian #smartphone market has fallen by 9 per cent in just three months because of supply chain constraints and growing anti-China sentiment.\n",
      "#IndiaChinaStandoff @TNIEBiz \n",
      "https://t.co/beuynW2rRH,\tFalse\n",
      "\n",
      "\n",
      "1286798322141978625,\t2020-07-24 23:00:02,\tThe Public Affairs Commission of the Syro Malabar Church urged the government to take immediate action to protect farmers, farms and livestock from wildlife attacks.\n",
      "@xpresskerala \n",
      "https://t.co/xzS2sVXWCu,\tFalse\n",
      "\n",
      "\n",
      "1286790834713767938,\t2020-07-24 22:30:17,\tUK Prime Minister #BorisJohnson has dismissed campaigners seeking to oppose vaccinations, describing so-called #antivaxxers as “nuts’’.\n",
      "https://t.co/l8LSDfESzU,\tFalse\n",
      "\n",
      "\n",
      "1286775681582608385,\t2020-07-24 21:30:04,\tA 25-year-old man from a village near Tamil Nadu's Mayiladuthurai was arrested for allegedly raping and impregnating his 14-year-old sister-in-law.\n",
      "@xpresstn \n",
      "https://t.co/i7f8Y0QDHy,\tFalse\n",
      "\n",
      "\n",
      "1286772492179185664,\t2020-07-24 21:17:23,\t1640 cases of #CoronavirusOutbreak in Telangana. Reported deaths- 8\n",
      "Karimnagar and Peddapalli see sharp spike in cases \n",
      "\n",
      "@NewIndianXpress https://t.co/0DBQ0QKVnZ,\tFalse\n",
      "\n",
      "\n",
      "1286772419030470656,\t2020-07-24 21:17:06,\tA woman died after an auto rickshaw she was travelling, washed away in a swollen stream at Kistarampally in Nalgonda district of #Telangana on Friday.\n",
      "@XpressHyderabad @NewIndianXpress https://t.co/PgaZZUeiNV,\tFalse\n",
      "\n",
      "\n",
      "1286772153593892871,\t2020-07-24 21:16:03,\t#Hubballi District Minister @JagadishShettar and Union Minister @JoshiPralhad hold meeting at #Bengaluru with PWD Minister @GovindKarjol to expedite ongoing #Road/NH works in and around #HubballiDhsrwad. @NewIndianXpress @XpressBengaluru @santwana99 @ramupatil_TNIE @Amitsen_TNIE https://t.co/ZwwGX1yeqR,\tFalse\n",
      "\n",
      "\n",
      "1286772110757527553,\t2020-07-24 21:15:52,\tMigrant spl from K'taka restarting:  A Shramik Spl will run on Saturday from KSR Bengaluru to Guwahati via Odisha &amp; West Bengal. 900 psgrs have already regd for travel and 600 more are expected to register at Tripura Vasini grounds by tom @KARailway @XpressBengaluru @BBMPCOMM,\tFalse\n",
      "\n",
      "\n",
      "1286768152584454144,\t2020-07-24 21:00:09,\tActing on a complaint lodged by #News18’s associate editor Vinay Sarawagi against Youtuber #Maridhas, cyber crime wing of Chennai city police registered a case under multiple sections of the IPC and the Information Technology Act.\n",
      "@xprestn \n",
      "https://t.co/5Uae2xxONm,\tFalse\n",
      "\n",
      "\n",
      "1286761823404822528,\t2020-07-24 20:35:00,\tMuslim prayers were held in the iconic #HagiaSophia for the first time in 86 years after the reconversion of the Istanbul landmark into a mosque. https://t.co/Z4YOsl8OeT,\tFalse\n",
      "\n",
      "\n"
     ]
    }
   ],
   "source": [
    "for tweet in timeline:\n",
    "    # if the tweet was actually retweeted by the user, you'll find the full text in the 'retweeted_status' key.\n",
    "    text=tweet.retweeted_status.full_text if 'retweeted_status' in tweet._json else tweet.full_text\n",
    "    print(f'{tweet.id},\\t{tweet.created_at},\\t{text},\\t{tweet.truncated}\\n\\n')\n",
    "# timeline[1]._json,'-++-'*30,timeline[3]._json"
   ]
  }
 ],
 "metadata": {
  "kernelspec": {
   "display_name": "Python 3",
   "language": "python",
   "name": "python3"
  },
  "language_info": {
   "codemirror_mode": {
    "name": "ipython",
    "version": 3
   },
   "file_extension": ".py",
   "mimetype": "text/x-python",
   "name": "python",
   "nbconvert_exporter": "python",
   "pygments_lexer": "ipython3",
   "version": "3.8.2"
  }
 },
 "nbformat": 4,
 "nbformat_minor": 4
}
