{
 "cells": [
  {
   "cell_type": "code",
   "execution_count": 2,
   "metadata": {
    "colab": {},
    "colab_type": "code",
    "id": "YfvO2cGozTxH"
   },
   "outputs": [],
   "source": [
    "# Imports\n",
    "import tweepy\n",
    "from time import sleep\n",
    "import json\n",
    "import pandas as pd"
   ]
  },
  {
   "cell_type": "code",
   "execution_count": 3,
   "metadata": {
    "colab": {},
    "colab_type": "code",
    "id": "OxTeEL05zTxX"
   },
   "outputs": [],
   "source": [
    "# Constants\n",
    "consumer_key='UFkzPnRg6teYYVpopicJlHu2L'\n",
    "consumer_secret='CNuHKlXlI4nY2YtX1RFFwthZQ0ziebfkLfrxd6T6xZp9FX7w7P'"
   ]
  },
  {
   "cell_type": "code",
   "execution_count": 4,
   "metadata": {
    "colab": {},
    "colab_type": "code",
    "id": "Y77Z0nHGzTxi"
   },
   "outputs": [],
   "source": [
    "# Authentificate and construct the api\n",
    "auth = tweepy.OAuthHandler(consumer_key, consumer_secret)\n",
    "api=tweepy.API(auth,timeout=11)"
   ]
  },
  {
   "cell_type": "markdown",
   "metadata": {
    "colab_type": "text",
    "id": "qd-N30Y5zTxt"
   },
   "source": [
    "<h1> \n",
    "    Search for a list of tweets using a query.\n",
    "    </h1>"
   ]
  },
  {
   "cell_type": "code",
   "execution_count": 5,
   "metadata": {
    "colab": {},
    "colab_type": "code",
    "id": "5PSggi21zTxw"
   },
   "outputs": [],
   "source": [
    "# Search for tweets by keywords, and fields\n",
    "# query : text to look for.\n",
    "query='corona'\n",
    "# lang : language ,ISO-code\n",
    "# result_type : sort them by popularity or date\n",
    "# count : maximum of how many to return \n",
    "# include_entities : return used hashtags, and users mentionned in the tweet.\n",
<<<<<<< HEAD
    "results=api.search(q=query, lang='fr',result_type='mixed', count=1000, include_entities=False)"
=======
    "results=api.search(q=query, lang='fr',result_type='mixed', count=100, include_entities=False)"
>>>>>>> bb3425453c32fe02be5f1bd8ba30e15e3b911bbe
   ]
  },
  {
   "cell_type": "code",
<<<<<<< HEAD
   "execution_count": 9,
=======
   "execution_count": 20,
>>>>>>> bb3425453c32fe02be5f1bd8ba30e15e3b911bbe
   "metadata": {
    "colab": {},
    "colab_type": "code",
    "id": "n4ajbTAozTx-"
   },
<<<<<<< HEAD
   "outputs": [],
   "source": [
    "# Iterate over the returned tweets, then print'em\n",
    "results2=[tweet for tweet in tweepy.Cursor(api.search,q=query, lang='fr',result_type='mixed', count=1000, include_entities=False).items(200)]"
   ]
  },
  {
   "cell_type": "code",
   "execution_count": 12,
   "metadata": {},
   "outputs": [],
   "source": [
    "keys=['created_at','id_str','text','retweet_count','retweet_count','favorite_count']\n",
    "data=[{k:tweet._json[k] for k in keys} for tweet in results2]\n",
    "df=pd.DataFrame(data)\n",
    "df.to_csv('Coroooona.csv',index=False)"
=======
   "outputs": [
    {
     "name": "stdout",
     "output_type": "stream",
     "text": [
      "2020-07-21 20:31:09,\t 1285673690454204418,\t Paul Celan écrivait : « Il est temps que la pierre se résolve enfin à fleurir ». Quel sens revêt cette injonction p… https://t.co/1A2efnIqZ6,\t True\n",
      "\n",
      "\n",
      "2020-07-19 13:01:00,\t 1284835631399604226,\t \"Ici c'est du concentré de corona. Regardez ici, on vit là et les gens viennent et font leurs besoins\" |… https://t.co/tOCwSBxtxw,\t True\n",
      "\n",
      "\n",
      "2020-07-23 06:40:39,\t 1286189465308991488,\t Une image pour résumer la situation : à gauche, le nombre de cas de #corona par jour en #Israel lors de la 1ère vag… https://t.co/M9DQS987bu,\t True\n",
      "\n",
      "\n",
      "2020-07-25 12:14:53,\t 1286998352232669184,\t VOUS on est deconfiné mais le Corona est toujours là et ça tue 😥faites attention,\t False\n",
      "\n",
      "\n",
      "2020-07-25 12:14:49,\t 1286998339033214978,\t RT @myriam_tsh: Dieu est vivant, après deux mois dans le coma et avoir vaincu le corona. Auj mon père peut fêter ces 52 ans. Dieu merci ❤️…,\t False\n",
      "\n",
      "\n",
      "2020-07-25 12:14:38,\t 1286998291218149377,\t Je ne pensais pas que c'était possible de faire plus insipide que la Corona ! https://t.co/uNW0gqE1YY,\t False\n",
      "\n",
      "\n",
      "2020-07-25 12:14:14,\t 1286998189292363781,\t @Serenacpc 😂😂😂😂😂😂\n",
      "J’avais totalement oublié cette sauce (qui n’est pas le sujet: regarde les commentaires) \n",
      "Une foi… https://t.co/9IFbmhMG5f,\t True\n",
      "\n",
      "\n",
      "2020-07-25 12:14:04,\t 1286998149719109632,\t RT @myriam_tsh: Dieu est vivant, après deux mois dans le coma et avoir vaincu le corona. Auj mon père peut fêter ces 52 ans. Dieu merci ❤️…,\t False\n",
      "\n",
      "\n",
      "2020-07-25 12:14:01,\t 1286998134317617154,\t RT @mistermv: J’ai la Corona Song de Renaud dans la tête depuis ce matin, c’est infernal.,\t False\n",
      "\n",
      "\n",
      "2020-07-25 12:13:08,\t 1286997913219080192,\t RT @qualb_naqiun: Tu sors pas, le corona,\t False\n",
      "\n",
      "\n",
      "2020-07-25 12:13:04,\t 1286997895108014082,\t RT @myriam_tsh: Dieu est vivant, après deux mois dans le coma et avoir vaincu le corona. Auj mon père peut fêter ces 52 ans. Dieu merci ❤️…,\t False\n",
      "\n",
      "\n",
      "2020-07-25 12:11:20,\t 1286997460787896320,\t La noisette qui risque donc de rater la reprise de la Ligue du Corona contre l’Atalanta HOHOHO https://t.co/DbVHZYDJEq,\t False\n",
      "\n",
      "\n",
      "2020-07-25 12:11:08,\t 1286997411790041089,\t @Met_eau Comme si Corona daffa diex ok 😂😂\n",
      "187 décès,\t False\n",
      "\n",
      "\n",
      "2020-07-25 12:10:48,\t 1286997326696009728,\t RT @myriam_tsh: Dieu est vivant, après deux mois dans le coma et avoir vaincu le corona. Auj mon père peut fêter ces 52 ans. Dieu merci ❤️…,\t False\n",
      "\n",
      "\n",
      "2020-07-25 12:10:30,\t 1286997250711920641,\t RT @mistermv: J’ai la Corona Song de Renaud dans la tête depuis ce matin, c’est infernal.,\t False\n",
      "\n",
      "\n",
      "2020-07-25 12:10:18,\t 1286997200602574848,\t RT @qualb_naqiun: Tu sors pas, le corona,\t False\n",
      "\n",
      "\n",
      "2020-07-25 12:09:56,\t 1286997106167865346,\t Vos potes qui vous donne le corona puis vous le donnez à votre famille ptdr,\t False\n",
      "\n",
      "\n",
      "2020-07-25 12:09:55,\t 1286997103680663552,\t Après avoir pris toutes les mesures préventives pour lutter contre la couronne depuis son départ jusqu'à présent, l… https://t.co/7JFBBm7v8l,\t True\n",
      "\n",
      "\n",
      "2020-07-25 12:09:49,\t 1286997078678347776,\t 2020 : AOAT (Année Of All Time) n'en déplaise au Corona virus https://t.co/wPdkBUaUQN,\t False\n",
      "\n",
      "\n",
      "2020-07-25 12:09:32,\t 1286997007886934016,\t @FranoisMrl @ClzOceane parfait contre le corona,\t False\n",
      "\n",
      "\n",
      "2020-07-25 12:09:18,\t 1286996950060081154,\t Tu sors pas, le corona https://t.co/kn4GWj5yxu,\t False\n",
      "\n",
      "\n",
      "2020-07-25 12:09:17,\t 1286996943063875585,\t RT @myriam_tsh: Dieu est vivant, après deux mois dans le coma et avoir vaincu le corona. Auj mon père peut fêter ces 52 ans. Dieu merci ❤️…,\t False\n",
      "\n",
      "\n",
      "2020-07-25 12:09:13,\t 1286996927062712321,\t jvais aller me faire tester pour le corona à 16h https://t.co/PxTmnnjhnZ,\t False\n",
      "\n",
      "\n",
      "2020-07-25 12:06:37,\t 1286996272013029376,\t @philousports Ptdr Philou, en mars pour la première fois de ma vie j'ai gagné un concours grâce à toi et Boulanger… https://t.co/ENQdNKALRz,\t True\n",
      "\n",
      "\n",
      "2020-07-25 12:06:05,\t 1286996141146550272,\t RT @myriam_tsh: Dieu est vivant, après deux mois dans le coma et avoir vaincu le corona. Auj mon père peut fêter ces 52 ans. Dieu merci ❤️…,\t False\n",
      "\n",
      "\n",
      "2020-07-25 12:05:15,\t 1286995928797401088,\t RT @Ratfa_1: \"Fuck les racistes, Fuck la police, Fuck 2020, Fuck Corona, WESH WESH \"\n",
      "\n",
      "J'écoute du rap depuis 1453 et j'ai jamais entendu de…,\t False\n",
      "\n",
      "\n",
      "2020-07-25 12:04:53,\t 1286995837126684674,\t RT @myriam_tsh: Dieu est vivant, après deux mois dans le coma et avoir vaincu le corona. Auj mon père peut fêter ces 52 ans. Dieu merci ❤️…,\t False\n",
      "\n",
      "\n",
      "2020-07-25 12:04:35,\t 1286995760962318342,\t ouais dans corona là c'est happy run qui me manque même 💔,\t False\n",
      "\n",
      "\n",
      "2020-07-25 12:04:06,\t 1286995642259308544,\t Si vous êtes allés à l'île d'Yeux ces derniers jours, ou si vous connaissez du monde qui y est allé, soyez prudents… https://t.co/HtXLo1dCNq,\t True\n",
      "\n",
      "\n",
      "2020-07-25 12:03:47,\t 1286995560424189952,\t Bet dcb buteur 🇨🇳 en collab avec le bro @ButeursPronos 👌\n",
      "\n",
      "La doublette du fc Corona devrais faire le taff 😂… https://t.co/EqVvWXQamf,\t True\n",
      "\n",
      "\n",
      "2020-07-25 12:03:18,\t 1286995438051131396,\t RT @BengueFrederic: @ADuferret @QanonFrance La belle sœur de mon épouse travaille dans un hôpital public en Belgique, ville de 50 000 habit…,\t False\n",
      "\n",
      "\n",
      "2020-07-25 12:02:27,\t 1286995226557591553,\t RT @myriam_tsh: Dieu est vivant, après deux mois dans le coma et avoir vaincu le corona. Auj mon père peut fêter ces 52 ans. Dieu merci ❤️…,\t False\n",
      "\n",
      "\n",
      "2020-07-25 12:01:15,\t 1286994923175268355,\t @badri1_m Le gouvernement n’a pas ce souci tout ce qui l’intéresse c’est les statistiques Corona,\t False\n",
      "\n",
      "\n",
      "2020-07-25 12:00:55,\t 1286994840501334016,\t Le corona c'est comme l'amour il es arriver et on a cru qu'il étai partie mais nan il es encor la a nous ronger..... 💘,\t False\n",
      "\n",
      "\n",
      "2020-07-25 12:00:39,\t 1286994773388165120,\t RT @flopewe: Vous allez à une Be Fresh, vous attrapez le corona et vous vous plaignez qu’on lance blague? ON VA RIGOLER JUSQU’AAAAAAAAAA,\t False\n",
      "\n",
      "\n",
      "2020-07-25 12:00:35,\t 1286994753477922818,\t RT @donilapute: Le marocain est prêt à choper le Corona f l blad mais il veut pas rater douwara .,\t False\n",
      "\n",
      "\n",
      "2020-07-25 12:00:10,\t 1286994651061395457,\t RT @Pastropchpayp: Y’a deux hayla j’écouter leurs conversations d’handicapés dans le bus y en a une qui dis “ t’as mis trop de parfum “ l’a…,\t False\n",
      "\n",
      "\n",
      "2020-07-25 11:59:59,\t 1286994606010269696,\t RT @myriam_tsh: Dieu est vivant, après deux mois dans le coma et avoir vaincu le corona. Auj mon père peut fêter ces 52 ans. Dieu merci ❤️…,\t False\n",
      "\n",
      "\n",
      "2020-07-25 11:59:45,\t 1286994544362508288,\t @ericsalliot @morganDubai peine à trover des Sponsors, New Haven a disparu💔 Moi aussi j'ai trouvé que WTA avait tro… https://t.co/AiJcQrf3hA,\t True\n",
      "\n",
      "\n",
      "2020-07-25 11:59:36,\t 1286994507981107202,\t RT @myriam_tsh: Dieu est vivant, après deux mois dans le coma et avoir vaincu le corona. Auj mon père peut fêter ces 52 ans. Dieu merci ❤️…,\t False\n",
      "\n",
      "\n",
      "2020-07-25 11:59:20,\t 1286994441136410626,\t RT @AnnieNiniDLF: @34Eule @Limportant_fr Le gros problème ici ,c’est que logiquement,si le nombre de test augmente,le nombre de porteur vas…,\t False\n",
      "\n",
      "\n",
      "2020-07-25 11:59:14,\t 1286994416037765120,\t Je oller desto doller...#Corona #Coronacreativity  https://t.co/75uihTyerE,\t False\n",
      "\n",
      "\n",
      "2020-07-25 11:58:49,\t 1286994308655132674,\t RT @mistermv: J’ai la Corona Song de Renaud dans la tête depuis ce matin, c’est infernal.,\t False\n",
      "\n",
      "\n",
      "2020-07-25 11:58:19,\t 1286994185384529920,\t RT @E_Sissembeck: Fond de riposte contre le Corona Virus\n",
      "\n",
      "Les gens au Minsante :,\t False\n",
      "\n",
      "\n",
      "2020-07-25 11:57:50,\t 1286994061828788230,\t Et encore c'est des chiffres qui datent d'avant le corona, mtn les offres d'emploi ont diminué entre temps et le no… https://t.co/zLT0KXUPUu,\t True\n",
      "\n",
      "\n",
      "2020-07-25 11:57:47,\t 1286994051926052865,\t @Gueido223 On dirait y’a plus corona au Mali hein, que des rassemblements ! 🤣,\t False\n",
      "\n",
      "\n",
      "2020-07-25 11:57:37,\t 1286994009903202304,\t La population de Corona dans le monde a dépassé les 9 millions https://t.co/g9KIZDiOvw,\t False\n",
      "\n",
      "\n",
      "2020-07-25 11:56:26,\t 1286993711675711488,\t RT @mistermv: J’ai la Corona Song de Renaud dans la tête depuis ce matin, c’est infernal.,\t False\n",
      "\n",
      "\n",
      "2020-07-25 11:56:25,\t 1286993704536899584,\t https://t.co/9Eyw3fYBXT Décidément .... quand ce n'est pas pour la formation du gouvernement, c'est pour le corona.… https://t.co/NuNsDTt9a1,\t True\n",
      "\n",
      "\n",
      "2020-07-25 11:55:56,\t 1286993583984250880,\t RT @myriam_tsh: Dieu est vivant, après deux mois dans le coma et avoir vaincu le corona. Auj mon père peut fêter ces 52 ans. Dieu merci ❤️…,\t False\n",
      "\n",
      "\n",
      "2020-07-25 11:55:46,\t 1286993544356466690,\t RT @Apush_Bruh: moi j'ai un ami qui a perdu une tante via corona...\n",
      "mais je dis hein c'est quelle danse ? 🤣,\t False\n",
      "\n",
      "\n",
      "2020-07-25 11:55:32,\t 1286993483958558720,\t @Frma_Aucl j ai la même visions des choses que toi marie nous aux boulot on a tous fait le teste donc  35  personne… https://t.co/QhzTsKe8yl,\t True\n",
      "\n",
      "\n",
      "2020-07-25 11:55:24,\t 1286993450617974785,\t RT @MG_MOD_OMAN: Cher citoyen .. Cher résident:\n",
      "\n",
      "Le respect des mesures préventives et des précautions sanitaires vous protège, vous et vot…,\t False\n",
      "\n",
      "\n",
      "2020-07-25 11:54:53,\t 1286993319415996416,\t RT @Walid_RSN: Les particules de corona qui attendent que t'appuies sur le bouton stop https://t.co/jppft4tPmJ,\t False\n",
      "\n",
      "\n",
      "2020-07-25 11:54:32,\t 1286993231226580995,\t a cause du corona jsuis une grosse pute ducoup :((( https://t.co/0BFIAP3l0t,\t False\n",
      "\n",
      "\n",
      "2020-07-25 11:54:26,\t 1286993207990124544,\t Même avant Corona, la baignade Villette était toujours très stressante. On sait jamais si on te laisse y rentrer, t… https://t.co/il42Kb7Gwf,\t True\n",
      "\n",
      "\n",
      "2020-07-25 11:54:02,\t 1286993106286542848,\t RT @mistermv: J’ai la Corona Song de Renaud dans la tête depuis ce matin, c’est infernal.,\t False\n",
      "\n",
      "\n",
      "2020-07-25 11:53:51,\t 1286993059000070144,\t J’en veux tjr au corona virus t’avoir foutu en l’air un semestre de conneries avec mes potes 😡,\t False\n",
      "\n",
      "\n",
      "2020-07-25 11:53:37,\t 1286993001408069632,\t RT @BengueFrederic: @ADuferret @QanonFrance La belle sœur de mon épouse travaille dans un hôpital public en Belgique, ville de 50 000 habit…,\t False\n",
      "\n",
      "\n",
      "2020-07-25 11:52:58,\t 1286992836454502400,\t RT @XAVIERA_ANAIS: @Ledawa @djroll_official @arsene_lejuif @bikophi @_AndreaMD @ElsaCynthia3 @florexkengne @gregondobo @joelmpessah @Laety1…,\t False\n",
      "\n",
      "\n",
      "2020-07-25 11:52:56,\t 1286992830821433344,\t RT @myriam_tsh: Dieu est vivant, après deux mois dans le coma et avoir vaincu le corona. Auj mon père peut fêter ces 52 ans. Dieu merci ❤️…,\t False\n",
      "\n",
      "\n",
      "2020-07-25 11:52:51,\t 1286992808843386883,\t RT @myriam_tsh: Dieu est vivant, après deux mois dans le coma et avoir vaincu le corona. Auj mon père peut fêter ces 52 ans. Dieu merci ❤️…,\t False\n",
      "\n",
      "\n",
      "2020-07-25 11:52:48,\t 1286992796176592896,\t RT @myriam_tsh: Dieu est vivant, après deux mois dans le coma et avoir vaincu le corona. Auj mon père peut fêter ces 52 ans. Dieu merci ❤️…,\t False\n",
      "\n",
      "\n",
      "2020-07-25 11:52:43,\t 1286992773439262720,\t Je pense que cette épidémie de corona ne sera jamais fini, on devra vivre avec toute notre vie.,\t False\n",
      "\n",
      "\n",
      "2020-07-25 11:52:40,\t 1286992762966073344,\t RT @Baki__69: La pire maladie c’est etre un qlf ou chopper le corona ?,\t False\n",
      "\n",
      "\n",
      "2020-07-25 11:52:30,\t 1286992721501200390,\t RT @myriam_tsh: Dieu est vivant, après deux mois dans le coma et avoir vaincu le corona. Auj mon père peut fêter ces 52 ans. Dieu merci ❤️…,\t False\n",
      "\n",
      "\n",
      "2020-07-25 11:52:08,\t 1286992630367363072,\t RT @Amina20S: Wifi gratuit pour lutter contre le corona j’essaie encore de trouver le rapport 🤔🤔,\t False\n",
      "\n",
      "\n",
      "2020-07-25 11:51:19,\t 1286992422082424832,\t RT @BFMTV: Allemagne: 39 arrestations après des violences lors d'une \"fête corona\" à Francfort\n",
      "\n",
      "https://t.co/uvtyjNyYMd https://t.co/XVNkiM…,\t False\n",
      "\n",
      "\n",
      "2020-07-25 11:49:53,\t 1286992061481267200,\t RT @E_Sissembeck: Fond de riposte contre le Corona Virus\n",
      "\n",
      "Les gens au Minsante : https://t.co/XeTA31NFTH,\t False\n",
      "\n",
      "\n",
      "2020-07-25 11:49:42,\t 1286992014601486337,\t RT @mistermv: J’ai la Corona Song de Renaud dans la tête depuis ce matin, c’est infernal.,\t False\n",
      "\n",
      "\n",
      "2020-07-25 11:49:39,\t 1286992003503476738,\t J'ai un petit frère/ami, il vient d'avoir 21ans. Le gar est devenu PDG de l'entreprise de son père et a également r… https://t.co/dkuTD4IxhP,\t True\n",
      "\n",
      "\n",
      "2020-07-25 11:49:21,\t 1286991926932254720,\t je pars pas en vacances a cause du corona, comme une envie de partir,\t False\n",
      "\n",
      "\n",
      "2020-07-25 11:48:59,\t 1286991837044015104,\t RT @Conflits_FR: 🇩🇪 FLASH - \"La #deuxiemevague\" du #coronavirus \"est déjà là\" en #Sachsen, selon #Kretschmer, ministre-président du Land. #…,\t False\n",
      "\n",
      "\n",
      "2020-07-25 11:48:49,\t 1286991793050058752,\t @peachyjini_ NON PUTAIN C'EST EMS EUROPE QUI SAOULE AVEC CORONA CHEPA QUOI,\t False\n",
      "\n",
      "\n",
      "2020-07-25 11:48:43,\t 1286991769062780929,\t RT @myriam_tsh: Dieu est vivant, après deux mois dans le coma et avoir vaincu le corona. Auj mon père peut fêter ces 52 ans. Dieu merci ❤️…,\t False\n",
      "\n",
      "\n",
      "2020-07-25 11:48:22,\t 1286991680055447553,\t madame avait promis de nous inviter pour la fête !! Et bimmm corona est arrivé 😪 cc @Togolize @Apush_Bruh https://t.co/cTDVlXGcww,\t False\n",
      "\n",
      "\n",
      "2020-07-25 11:48:03,\t 1286991599382274048,\t Miskine si j'ai le Corona... j'ai tellement respecté les règles : pas de sortie, masque et gel h24 https://t.co/wLCygQZ0aJ,\t False\n",
      "\n",
      "\n",
      "2020-07-25 11:47:38,\t 1286991497850687488,\t RT @myriam_tsh: Dieu est vivant, après deux mois dans le coma et avoir vaincu le corona. Auj mon père peut fêter ces 52 ans. Dieu merci ❤️…,\t False\n",
      "\n",
      "\n",
      "2020-07-25 11:47:32,\t 1286991472831729665,\t YOHAN CON LA CORONA PQ ES UN RWY,\t False\n",
      "\n",
      "\n",
      "2020-07-25 11:47:15,\t 1286991401553727489,\t RT @myriam_tsh: Dieu est vivant, après deux mois dans le coma et avoir vaincu le corona. Auj mon père peut fêter ces 52 ans. Dieu merci ❤️…,\t False\n",
      "\n",
      "\n",
      "2020-07-25 11:47:11,\t 1286991383530745856,\t @Homedelilla @Maitre_Fawkes C’est ta main qui est grande ou la corona qui est petite? 🤔,\t False\n",
      "\n",
      "\n",
      "2020-07-25 11:46:59,\t 1286991330560942081,\t RT @BengueFrederic: @ADuferret @QanonFrance La belle sœur de mon épouse travaille dans un hôpital public en Belgique, ville de 50 000 habit…,\t False\n",
      "\n",
      "\n",
      "2020-07-25 11:46:57,\t 1286991322549805056,\t Les boutons de corona sur peau noire ressemble à quoi ?,\t False\n",
      "\n",
      "\n",
      "2020-07-25 11:46:40,\t 1286991254023217153,\t RT @Tsuna11k: Vs vs rendez pas compte le Corona l'argent que ça ns ft économiser. MARIAGE PAS TROP DE GENS, RESTAURANT IL FAUDRA TLMT DE RE…,\t False\n",
      "\n",
      "\n",
      "2020-07-25 11:46:29,\t 1286991207965560834,\t Donner ses coordonnées aux restaurants wlh je comprends pas ça va beaucoup trop loin cette histoire de corona,\t False\n",
      "\n",
      "\n",
      "2020-07-25 11:46:26,\t 1286991194979995649,\t RT @BengueFrederic: @ADuferret @QanonFrance La belle sœur de mon épouse travaille dans un hôpital public en Belgique, ville de 50 000 habit…,\t False\n",
      "\n",
      "\n",
      "2020-07-25 11:46:10,\t 1286991125778243590,\t jvous assure pour moi ya plus le corona,\t False\n",
      "\n",
      "\n",
      "2020-07-25 11:45:35,\t 1286990980529496066,\t j’ai supprimé de partout la meuf qui a gentillement détruit ma vie, et je vois ces tweets partout, pire que le corona je vous jure,\t False\n",
      "\n",
      "\n",
      "2020-07-25 11:45:27,\t 1286990948698816512,\t Yénangui fatalikou temps corona ?😭,\t False\n",
      "\n",
      "\n",
      "2020-07-25 11:45:11,\t 1286990878922465280,\t RT @myriam_tsh: Dieu est vivant, après deux mois dans le coma et avoir vaincu le corona. Auj mon père peut fêter ces 52 ans. Dieu merci ❤️…,\t False\n",
      "\n",
      "\n",
      "2020-07-25 11:44:45,\t 1286990770986258433,\t @GG_RMC Avec #Corona ,les commerces n'ont plus les moyens de payer leur loyer donc ils ont déménagés et sont partis… https://t.co/xrEgQxqWiF,\t True\n",
      "\n",
      "\n",
      "2020-07-25 11:44:29,\t 1286990703806099456,\t ptn mon papy veut pas aller chez le médecin pour qu’on lui traduise ses analyse pour le corona -_- vraiment un debilos,\t False\n",
      "\n",
      "\n",
      "2020-07-25 11:43:56,\t 1286990565461155843,\t RT @E_Sissembeck: Fond de riposte contre le Corona Virus\n",
      "\n",
      "Les gens au Minsante :,\t False\n",
      "\n",
      "\n",
      "2020-07-25 11:43:13,\t 1286990382946037765,\t RT @myriam_tsh: Dieu est vivant, après deux mois dans le coma et avoir vaincu le corona. Auj mon père peut fêter ces 52 ans. Dieu merci ❤️…,\t False\n",
      "\n",
      "\n",
      "2020-07-25 11:42:54,\t 1286990303115776001,\t Youhouuuu j’ai pas corona ( le coton tige dans le pif sa fait pas mal ),\t False\n",
      "\n",
      "\n",
      "2020-07-25 11:41:58,\t 1286990070076133377,\t @Raboboy @mompontet on peut raisonnablement supposer qu’une bonne part a succombé au corona en \"lieu et place\" de la grippe,\t False\n",
      "\n",
      "\n",
      "2020-07-25 11:41:46,\t 1286990020642054144,\t RT @mistermv: J’ai la Corona Song de Renaud dans la tête depuis ce matin, c’est infernal.,\t False\n",
      "\n",
      "\n",
      "2020-07-25 11:41:29,\t 1286989946495131648,\t RT @Tsuna11k: Vs vs rendez pas compte le Corona l'argent que ça ns ft économiser. MARIAGE PAS TROP DE GENS, RESTAURANT IL FAUDRA TLMT DE RE…,\t False\n",
      "\n",
      "\n",
      "2020-07-25 11:41:28,\t 1286989944578281472,\t trop fascinée par les kids de sciences po qui comme tous les ans font des stories dans 4 pays différents en 2 semai… https://t.co/V3IP7ECMnC,\t True\n",
      "\n",
      "\n",
      "2020-07-25 11:41:23,\t 1286989922608586752,\t @LouisMeni Venant de wish c’est pas étonnant, et avec le corona virus ça m’étonne encore moins haha,\t False\n",
      "\n",
      "\n"
     ]
    }
   ],
   "source": [
    "# Iterate over the returned tweets, then print'em\n",
    "for tweet in results:\n",
    "    print(f\"{tweet.created_at},\\t {tweet.id},\\t {tweet.text},\\t {tweet.truncated}\\n\\n\")"
>>>>>>> bb3425453c32fe02be5f1bd8ba30e15e3b911bbe
   ]
  },
  {
   "cell_type": "markdown",
   "metadata": {
    "colab_type": "text",
    "id": "2oBJfbjQzTyN"
   },
   "source": [
    "# Save Results"
   ]
  },
  {
   "cell_type": "code",
<<<<<<< HEAD
   "execution_count": 6,
=======
   "execution_count": 7,
>>>>>>> bb3425453c32fe02be5f1bd8ba30e15e3b911bbe
   "metadata": {
    "colab": {},
    "colab_type": "code",
    "id": "ZJuF-aOzzTyP"
   },
   "outputs": [],
   "source": [
    "ats=[tweet.created_at for tweet in results]\n",
    "ids=[tweet.id for tweet in results]\n",
    "texts=[tweet.text for tweet in results]\n",
    "trs=[tweet.truncated for tweet in results]\n",
<<<<<<< HEAD
    "\n",
    "df = pd.DataFrame({'created_at':ats,\"id\":ids,\"text\":texts,\"truncated\":trs}) \n",
    "df.to_csv('data.csv', index=False, encoding='utf-8')"
=======
    "import pandas as pd\n",
    "df = pd.DataFrame({'created_at':ats,\"id\":ids,\"text\":texts,\"truncated\":trs}) \n",
    "df.to_csv('corona.csv', index=False, encoding='utf-8')"
>>>>>>> bb3425453c32fe02be5f1bd8ba30e15e3b911bbe
   ]
  },
  {
   "cell_type": "markdown",
   "metadata": {
    "colab_type": "text",
    "id": "pEOtCDz1zTyZ"
   },
   "source": [
    "<h1>\n",
    "    Search get detailled informations about a certain tweet whose (idd).\n",
    "    </h1>"
   ]
  },
  {
   "cell_type": "code",
<<<<<<< HEAD
   "execution_count": 19,
=======
   "execution_count": 8,
>>>>>>> bb3425453c32fe02be5f1bd8ba30e15e3b911bbe
   "metadata": {
    "colab": {},
    "colab_type": "code",
    "id": "nNe-k9JwzTyd"
   },
   "outputs": [],
   "source": [
    "# Search for a tweet by its id; 'idd' is just taken from a tweet above.\n",
    "idd=1286505134122557442\n",
    "# tweet_mode : extended(compat) for more(less) informations about the results.\n",
    "# trim_user : True=to return only the user id, False: return all his informations.\n",
    "tweet=api.get_status(idd,trim_user=True,tweet_mode='extended')"
   ]
  },
  {
   "cell_type": "code",
<<<<<<< HEAD
   "execution_count": null,
=======
   "execution_count": 9,
>>>>>>> bb3425453c32fe02be5f1bd8ba30e15e3b911bbe
   "metadata": {
    "colab": {},
    "colab_type": "code",
    "id": "dEiLp84qzTyo"
   },
<<<<<<< HEAD
   "outputs": [],
=======
   "outputs": [
    {
     "data": {
      "text/plain": [
       "{'created_at': 'Fri Jul 24 03:35:00 +0000 2020',\n",
       " 'id': 1286505134122557442,\n",
       " 'id_str': '1286505134122557442',\n",
       " 'full_text': \"A 14-year-old #COVID19 patient was allegedly sexually assaulted inside Delhi's biggest quarantine facility, the Sardar Vallabhai Patel corona care centre, by two patients when she went outside to use washroom. \\nhttps://t.co/6bZzc7e6NN\",\n",
       " 'truncated': False,\n",
       " 'display_text_range': [0, 234],\n",
       " 'entities': {'hashtags': [{'text': 'COVID19', 'indices': [14, 22]}],\n",
       "  'symbols': [],\n",
       "  'user_mentions': [],\n",
       "  'urls': [{'url': 'https://t.co/6bZzc7e6NN',\n",
       "    'expanded_url': 'https://www.newindianexpress.com/cities/delhi/2020/jul/23/14-year-old-covid-19-positive-girl-sexually-assaulted-by-another-patient-at-care-centre-in-delhi-2173888.html',\n",
       "    'display_url': 'newindianexpress.com/cities/delhi/2…',\n",
       "    'indices': [211, 234]}]},\n",
       " 'source': '<a href=\"https://buffer.com\" rel=\"nofollow\">Buffer</a>',\n",
       " 'in_reply_to_status_id': None,\n",
       " 'in_reply_to_status_id_str': None,\n",
       " 'in_reply_to_user_id': None,\n",
       " 'in_reply_to_user_id_str': None,\n",
       " 'in_reply_to_screen_name': None,\n",
       " 'user': {'id': 94761188, 'id_str': '94761188'},\n",
       " 'geo': None,\n",
       " 'coordinates': None,\n",
       " 'place': None,\n",
       " 'contributors': None,\n",
       " 'is_quote_status': False,\n",
       " 'retweet_count': 10,\n",
       " 'favorite_count': 15,\n",
       " 'favorited': False,\n",
       " 'retweeted': False,\n",
       " 'possibly_sensitive': False,\n",
       " 'possibly_sensitive_appealable': False,\n",
       " 'lang': 'en'}"
      ]
     },
     "execution_count": 9,
     "metadata": {},
     "output_type": "execute_result"
    }
   ],
>>>>>>> bb3425453c32fe02be5f1bd8ba30e15e3b911bbe
   "source": [
    "tweet._json"
   ]
  },
  {
   "cell_type": "code",
<<<<<<< HEAD
   "execution_count": 21,
=======
   "execution_count": 10,
>>>>>>> bb3425453c32fe02be5f1bd8ba30e15e3b911bbe
   "metadata": {
    "colab": {
     "base_uri": "https://localhost:8080/",
     "height": 105
    },
    "colab_type": "code",
    "id": "mgdkkpbKzTyy",
    "outputId": "05a93314-420b-4f19-ceef-2ca18149272f"
   },
   "outputs": [
<<<<<<< HEAD
    {
     "data": {
      "text/plain": [
       "('2020-07-24 03:35:00',\n",
       " 1286505134122557442,\n",
       " \"A 14-year-old #COVID19 patient was allegedly sexually assaulted inside Delhi's biggest quarantine facility, the Sardar Vallabhai Patel corona care centre, by two patients when she went outside to use washroom. \\nhttps://t.co/6bZzc7e6NN\",\n",
       " False)"
      ]
     },
     "execution_count": 21,
     "metadata": {
      "tags": []
     },
     "output_type": "execute_result"
    }
   ],
   "source": [
    "# if : tweet_mode==extended, use tweet.full_text to access the tweet's text.\n",
    "# otherwise use tweet.text\n",
    "str(tweet.created_at),tweet.id,tweet.full_text,tweet.truncated"
   ]
  },
  {
   "cell_type": "code",
   "execution_count": 22,
   "metadata": {
    "colab": {},
    "colab_type": "code",
    "id": "EdBx9i5fzTy_"
   },
   "outputs": [],
   "source": [
    "# Now search for user by id\n",
    "user_id=94761188\n",
    "user=api.get_user(user_id)"
   ]
  },
  {
   "cell_type": "code",
   "execution_count": null,
   "metadata": {
    "colab": {},
    "colab_type": "code",
    "collapsed": true,
    "id": "gtwRLrwwzTzJ"
   },
   "outputs": [],
   "source": [
    "user._json"
   ]
  },
  {
   "cell_type": "markdown",
   "metadata": {
    "colab_type": "text",
    "id": "wkgQjsBizTzZ"
   },
   "source": [
    "<h1>\n",
    "    Search for tweets published by a certain user identified  (user_id)\n",
    "    <"
   ]
  },
  {
   "cell_type": "code",
   "execution_count": 24,
   "metadata": {
    "colab": {},
    "colab_type": "code",
    "id": "4Vx4tFVCzTzc"
   },
   "outputs": [],
   "source": [
    "# Now search user timeline\n",
    "# the 'page' arg is the index of which page to access, 0: first page, 1: second page, 2: third.... so on.\n",
    "timeline=api.user_timeline(user_id, count=10, page=0, tweet_mode='extended')"
   ]
  },
  {
   "cell_type": "code",
   "execution_count": null,
   "metadata": {
    "colab": {},
    "colab_type": "code",
    "id": "KRdXcQ-EzTzl",
    "scrolled": false
   },
   "outputs": [],
   "source": [
    "for tweet in timeline:\n",
=======
    {
     "data": {
      "text/plain": [
       "('2020-07-24 03:35:00',\n",
       " 1286505134122557442,\n",
       " \"A 14-year-old #COVID19 patient was allegedly sexually assaulted inside Delhi's biggest quarantine facility, the Sardar Vallabhai Patel corona care centre, by two patients when she went outside to use washroom. \\nhttps://t.co/6bZzc7e6NN\",\n",
       " False)"
      ]
     },
     "execution_count": 10,
     "metadata": {},
     "output_type": "execute_result"
    }
   ],
   "source": [
    "# if : tweet_mode==extended, use tweet.full_text to access the tweet's text.\n",
    "# otherwise use tweet.text\n",
    "str(tweet.created_at),tweet.id,tweet.full_text,tweet.truncated"
   ]
  },
  {
   "cell_type": "code",
   "execution_count": 11,
   "metadata": {
    "colab": {},
    "colab_type": "code",
    "id": "EdBx9i5fzTy_"
   },
   "outputs": [],
   "source": [
    "# Now search for user by id\n",
    "user_id=94761188\n",
    "user=api.get_user(user_id)"
   ]
  },
  {
   "cell_type": "code",
   "execution_count": 12,
   "metadata": {
    "colab": {},
    "colab_type": "code",
    "id": "gtwRLrwwzTzJ"
   },
   "outputs": [
    {
     "data": {
      "text/plain": [
       "{'id': 94761188,\n",
       " 'id_str': '94761188',\n",
       " 'name': 'The New Indian Express',\n",
       " 'screen_name': 'NewIndianXpress',\n",
       " 'location': 'Chennai',\n",
       " 'profile_location': None,\n",
       " 'description': 'All the tweets for breaking news & views.\\nFacebook: https://t.co/2JWnDQzN07\\nYouTube: https://t.co/j6jQDbuEjK',\n",
       " 'url': 'https://t.co/bThxeYSjGT',\n",
       " 'entities': {'url': {'urls': [{'url': 'https://t.co/bThxeYSjGT',\n",
       "     'expanded_url': 'http://www.newindianexpress.com',\n",
       "     'display_url': 'newindianexpress.com',\n",
       "     'indices': [0, 23]}]},\n",
       "  'description': {'urls': [{'url': 'https://t.co/2JWnDQzN07',\n",
       "     'expanded_url': 'https://www.facebook.com/thenewindianxpress/',\n",
       "     'display_url': 'facebook.com/thenewindianxp…',\n",
       "     'indices': [52, 75]},\n",
       "    {'url': 'https://t.co/j6jQDbuEjK',\n",
       "     'expanded_url': 'https://www.youtube.com/user/thenewindianxpress/videos',\n",
       "     'display_url': 'youtube.com/user/thenewind…',\n",
       "     'indices': [85, 108]}]}},\n",
       " 'protected': False,\n",
       " 'followers_count': 445257,\n",
       " 'friends_count': 552,\n",
       " 'listed_count': 1401,\n",
       " 'created_at': 'Sat Dec 05 09:24:55 +0000 2009',\n",
       " 'favourites_count': 540,\n",
       " 'utc_offset': None,\n",
       " 'time_zone': None,\n",
       " 'geo_enabled': True,\n",
       " 'verified': True,\n",
       " 'statuses_count': 586711,\n",
       " 'lang': None,\n",
       " 'status': {'created_at': 'Sat Jul 25 12:15:00 +0000 2020',\n",
       "  'id': 1286998385216684033,\n",
       "  'id_str': '1286998385216684033',\n",
       "  'text': 'The US has announced that it will not take in any new foreign students seeking online-only study, after rescinding… https://t.co/a0MT4HlzVu',\n",
       "  'truncated': True,\n",
       "  'entities': {'hashtags': [],\n",
       "   'symbols': [],\n",
       "   'user_mentions': [],\n",
       "   'urls': [{'url': 'https://t.co/a0MT4HlzVu',\n",
       "     'expanded_url': 'https://twitter.com/i/web/status/1286998385216684033',\n",
       "     'display_url': 'twitter.com/i/web/status/1…',\n",
       "     'indices': [116, 139]}]},\n",
       "  'source': '<a href=\"https://buffer.com\" rel=\"nofollow\">Buffer</a>',\n",
       "  'in_reply_to_status_id': None,\n",
       "  'in_reply_to_status_id_str': None,\n",
       "  'in_reply_to_user_id': None,\n",
       "  'in_reply_to_user_id_str': None,\n",
       "  'in_reply_to_screen_name': None,\n",
       "  'geo': None,\n",
       "  'coordinates': None,\n",
       "  'place': None,\n",
       "  'contributors': None,\n",
       "  'is_quote_status': False,\n",
       "  'retweet_count': 0,\n",
       "  'favorite_count': 0,\n",
       "  'favorited': False,\n",
       "  'retweeted': False,\n",
       "  'possibly_sensitive': False,\n",
       "  'lang': 'en'},\n",
       " 'contributors_enabled': False,\n",
       " 'is_translator': False,\n",
       " 'is_translation_enabled': False,\n",
       " 'profile_background_color': '022330',\n",
       " 'profile_background_image_url': 'http://abs.twimg.com/images/themes/theme15/bg.png',\n",
       " 'profile_background_image_url_https': 'https://abs.twimg.com/images/themes/theme15/bg.png',\n",
       " 'profile_background_tile': True,\n",
       " 'profile_image_url': 'http://pbs.twimg.com/profile_images/1094836139217711105/gDLAVTWn_normal.jpg',\n",
       " 'profile_image_url_https': 'https://pbs.twimg.com/profile_images/1094836139217711105/gDLAVTWn_normal.jpg',\n",
       " 'profile_banner_url': 'https://pbs.twimg.com/profile_banners/94761188/1589957053',\n",
       " 'profile_link_color': '0000FF',\n",
       " 'profile_sidebar_border_color': 'FFFFFF',\n",
       " 'profile_sidebar_fill_color': 'C0DFEC',\n",
       " 'profile_text_color': '333333',\n",
       " 'profile_use_background_image': True,\n",
       " 'has_extended_profile': False,\n",
       " 'default_profile': False,\n",
       " 'default_profile_image': False,\n",
       " 'following': None,\n",
       " 'follow_request_sent': None,\n",
       " 'notifications': None,\n",
       " 'translator_type': 'none'}"
      ]
     },
     "execution_count": 12,
     "metadata": {},
     "output_type": "execute_result"
    }
   ],
   "source": [
    "user._json"
   ]
  },
  {
   "cell_type": "markdown",
   "metadata": {
    "colab_type": "text",
    "id": "wkgQjsBizTzZ"
   },
   "source": [
    "<h1>\n",
    "    Search for tweets published by a certain user identified  (user_id)\n",
    "    <"
   ]
  },
  {
   "cell_type": "code",
   "execution_count": 13,
   "metadata": {
    "colab": {},
    "colab_type": "code",
    "id": "4Vx4tFVCzTzc"
   },
   "outputs": [],
   "source": [
    "# Now search user timeline\n",
    "# the 'page' arg is the index of which page to access, 0: first page, 1: second page, 2: third.... so on.\n",
    "timelines=[api.user_timeline(user_id, count=10, page=i, tweet_mode='extended') for i in range(100)]"
   ]
  },
  {
   "cell_type": "code",
   "execution_count": 15,
   "metadata": {
    "colab": {},
    "colab_type": "code",
    "id": "KRdXcQ-EzTzl",
    "scrolled": false
   },
   "outputs": [
    {
     "name": "stdout",
     "output_type": "stream",
     "text": [
      "1286998385216684033,\t2020-07-25 12:15:00,\tThe US has announced that it will not take in any new foreign students seeking online-only study, after rescinding a hotly contested order to expel those already in the country and preparing for that because of the #COVID19Pandemic.\n",
      "#DonaldTrump\n",
      "https://t.co/MSotiaqCo3,\tFalse\n",
      "\n",
      "\n",
      "1286997804905164800,\t2020-07-25 12:12:42,\tChildren playing games without wearing mask in containment zone Jodugullapalem in Visakhapatnam @NewIndianXpress @xpressandhra @Kalyan_TNIE @shibasahu2012 @Ravindra_TNIE https://t.co/I9UzClrANF,\tFalse\n",
      "\n",
      "\n",
      "1286997187642023936,\t2020-07-25 12:10:15,\tA #farmer forced to use his #daughters instead of oxen to pull the plough in his fields, due to financial crisis during #lockdown, in  #Chittoor district.\n",
      "\n",
      "@NewIndianXpress @Kalyan_TNIE\n",
      "#COVID19 #coronavirus #agriculture #farming #labour #farmanimals https://t.co/NKhRRrExb6,\tFalse\n",
      "\n",
      "\n",
      "1286993581279006721,\t2020-07-25 11:55:55,\tHas #COVID19 brought to the fore a kinder India? The New Sunday Express Magazine finds out. There are other reading delights too as our promo video highlights. \n",
      "@gsvasu_TNIE @etteth @Sunday_Standard @khogensingh1 \n",
      "Subscribe here:  \n",
      "https://t.co/nShFvhJBBa https://t.co/iaYXZHaEIs,\tFalse\n",
      "\n",
      "\n",
      "1286993390068883456,\t2020-07-25 11:55:10,\tPondman Kaamegowda who has been admitted at Mandya institute of medical sciences after he tested positive. \"I am fine, no need to panic \" he tells. \n",
      "\n",
      "@NewIndianXpress @santwana99 @XpressBengaluru https://t.co/KJv1BTfKqo,\tFalse\n",
      "\n",
      "\n",
      "1286993348834754560,\t2020-07-25 11:55:00,\tA 22-year-old #COVID19 patient killed himself by jumping from the third floor of AIIMS building in Patna. Up to seven people have lost their lives in the state, by what appears to be a suicide, after being in quarantine. \n",
      "https://t.co/fac8i1c67P,\tFalse\n",
      "\n",
      "\n",
      "1286991760002969600,\t2020-07-25 11:48:41,\t#COVID19 update #Bhubaneswar\n",
      "\n",
      "Total cases: 1828\n",
      "From slums: 418\n",
      "Death: 11\n",
      "Active: 952\n",
      "\n",
      "Symptomatic: 764\n",
      "Asymptomatic: 1064\n",
      "\n",
      "Cases in last 10 days: 969\n",
      "Active: 873\n",
      "\n",
      "#Odisha #coronavirus\n",
      "@XpressOdisha @NewIndianXpress https://t.co/IYOxqdCyJr,\tFalse\n",
      "\n",
      "\n",
      "1286990832491405312,\t2020-07-25 11:45:00,\tJenburkt Pharmaceuticals has launched #COVID__19 anti-viral drug #Favipiravir under the brand name 'Favivent' to treat mild and moderate #coronavirus symptoms at Rs 39 per tablet.\n",
      "#CoronaVirusUpdates https://t.co/LGfcG6rID1,\tFalse\n",
      "\n",
      "\n",
      "1286989264140382208,\t2020-07-25 11:38:46,\tA medical staff getting samples from a woman for covid-19 test   at  urban health centre in Tirupati on Saturday  @NewIndianXpress @xpressandhra @Kalyan_TNIE @shibasahu2012 @Ravindra_TNIE https://t.co/yZulFrQonv,\tFalse\n",
      "\n",
      "\n",
      "1286988400160051200,\t2020-07-25 11:35:20,\tWith India mulling to invite Australia to join the next Malabar naval exercise, a top US diplomat has said that #Australia's participation along with other Quad members will be hugely beneficial in defending their mutual interests.\n",
      "https://t.co/SZhe8DXNFI,\tFalse\n",
      "\n",
      "\n"
     ]
    }
   ],
   "source": [
    "for tweet in timelines[0]:\n",
>>>>>>> bb3425453c32fe02be5f1bd8ba30e15e3b911bbe
    "    # if the tweet was actually retweeted by the user, you'll find the full text in the 'retweeted_status' key.\n",
    "    text=tweet.retweeted_status.full_text if 'retweeted_status' in tweet._json else tweet.full_text\n",
    "    print(f'{tweet.id},\\t{tweet.created_at},\\t{text},\\t{tweet.truncated}\\n\\n')\n",
    "# timeline[1]._json,'-++-'*30,timeline[3]._json"
   ]
  },
  {
<<<<<<< HEAD
   "cell_type": "code",
   "execution_count": 26,
=======
   "cell_type": "raw",
   "metadata": {},
   "source": [
    "Save in csv file"
   ]
  },
  {
   "cell_type": "code",
   "execution_count": 19,
>>>>>>> bb3425453c32fe02be5f1bd8ba30e15e3b911bbe
   "metadata": {
    "colab": {},
    "colab_type": "code",
    "id": "PGBwGtrj0eUU"
   },
   "outputs": [],
   "source": [
<<<<<<< HEAD
    "ids=[tweet.id for tweet in timeline]\n",
    "ats=[tweet.created_at for tweet in timeline]\n",
    "texts=[tweet.retweeted_status.full_text   if 'retweeted_status' in tweet._json else tweet.full_text for tweet in timeline]\n",
    "trs=[tweet.truncated for tweet in timeline]\n",
    "\n",
    "df = pd.DataFrame({'created_at':ats,\"id\":ids,\"text\":texts,\"truncated\":trs}) \n",
    "df.to_csv('data2.csv', index=False, encoding='utf-8')"
=======
    "ids=[tweet.id  for timeline in timelines for tweet in timeline]\n",
    "ats=[tweet.created_at  for timeline in timelines for tweet in timeline]\n",
    "texts=[tweet.retweeted_status.full_text   if 'retweeted_status' in tweet._json else tweet.full_text for timeline in timelines for tweet in timeline ]\n",
    "trs=[tweet.truncated for timeline in timelines for tweet in timeline]\n",
    "\n",
    "df = pd.DataFrame({'created_at':ats,\"id\":ids,\"text\":texts,\"truncated\":trs}) \n",
    "df.to_csv('corona2.csv', index=False, encoding='utf-8')"
>>>>>>> bb3425453c32fe02be5f1bd8ba30e15e3b911bbe
   ]
  }
 ],
 "metadata": {
  "colab": {
   "name": "Tweepy-checkpoint.ipynb",
   "provenance": []
  },
  "kernelspec": {
   "display_name": "Python 3",
   "language": "python",
   "name": "python3"
  },
  "language_info": {
   "codemirror_mode": {
    "name": "ipython",
    "version": 3
   },
   "file_extension": ".py",
   "mimetype": "text/x-python",
   "name": "python",
   "nbconvert_exporter": "python",
   "pygments_lexer": "ipython3",
<<<<<<< HEAD
   "version": "3.8.2"
=======
   "version": "3.7.3"
>>>>>>> bb3425453c32fe02be5f1bd8ba30e15e3b911bbe
  }
 },
 "nbformat": 4,
 "nbformat_minor": 1
}
