{
  "nbformat": 4,
  "nbformat_minor": 0,
  "metadata": {
    "kernelspec": {
      "display_name": "Python 3",
      "language": "python",
      "name": "python3"
    },
    "language_info": {
      "codemirror_mode": {
        "name": "ipython",
        "version": 3
      },
      "file_extension": ".py",
      "mimetype": "text/x-python",
      "name": "python",
      "nbconvert_exporter": "python",
      "pygments_lexer": "ipython3",
      "version": "3.7.3"
    },
    "colab": {
      "name": "Tweepy-checkpoint.ipynb",
      "provenance": []
    }
  },
  "cells": [
    {
      "cell_type": "code",
      "metadata": {
        "id": "YfvO2cGozTxH",
        "colab_type": "code",
        "colab": {}
      },
      "source": [
        "# Imports\n",
        "import tweepy\n",
        "from time import sleep\n",
        "import json\n",
        "import pandas as pd"
      ],
      "execution_count": 13,
      "outputs": []
    },
    {
      "cell_type": "code",
      "metadata": {
        "id": "OxTeEL05zTxX",
        "colab_type": "code",
        "colab": {}
      },
      "source": [
        "# Constants\n",
        "consumer_key='UFkzPnRg6teYYVpopicJlHu2L'\n",
        "consumer_secret='CNuHKlXlI4nY2YtX1RFFwthZQ0ziebfkLfrxd6T6xZp9FX7w7P'"
      ],
      "execution_count": 14,
      "outputs": []
    },
    {
      "cell_type": "code",
      "metadata": {
        "id": "Y77Z0nHGzTxi",
        "colab_type": "code",
        "colab": {}
      },
      "source": [
        "# Authentificate and construct the api\n",
        "auth = tweepy.OAuthHandler(consumer_key, consumer_secret)\n",
        "api=tweepy.API(auth,timeout=11)"
      ],
      "execution_count": 15,
      "outputs": []
    },
    {
      "cell_type": "markdown",
      "metadata": {
        "id": "qd-N30Y5zTxt",
        "colab_type": "text"
      },
      "source": [
        "<h1> \n",
        "    Search for a list of tweets using a query.\n",
        "    </h1>"
      ]
    },
    {
      "cell_type": "code",
      "metadata": {
        "id": "5PSggi21zTxw",
        "colab_type": "code",
        "colab": {}
      },
      "source": [
        "# Search for tweets by keywords, and fields\n",
        "# query : text to look for.\n",
        "query='corona'\n",
        "# lang : language ,ISO-code\n",
        "# result_type : sort them by popularity or date\n",
        "# count : maximum of how many to return \n",
        "# include_entities : return used hashtags, and users mentionned in the tweet.\n",
        "results=api.search(q=query, lang='fr',result_type='mixed', count=1000, include_entities=False)"
      ],
      "execution_count": 16,
      "outputs": []
    },
    {
      "cell_type": "code",
      "metadata": {
        "id": "n4ajbTAozTx-",
        "colab_type": "code",
        "colab": {}
      },
      "source": [
        "# Iterate over the returned tweets, then print'em\n",
        "# for tweet in results:\n",
        "#     print(f\"{tweet.created_at},\\t {tweet.id},\\t {tweet.text},\\t {tweet.truncated}\\n\\n\")"
      ],
      "execution_count": 17,
      "outputs": []
    },
    {
      "cell_type": "markdown",
      "metadata": {
        "id": "2oBJfbjQzTyN",
        "colab_type": "text"
      },
      "source": [
        "# Save Results"
      ]
    },
    {
      "cell_type": "code",
      "metadata": {
        "id": "ZJuF-aOzzTyP",
        "colab_type": "code",
        "colab": {}
      },
      "source": [
        "ats=[tweet.created_at for tweet in results]\n",
        "ids=[tweet.id for tweet in results]\n",
        "texts=[tweet.text for tweet in results]\n",
        "trs=[tweet.truncated for tweet in results]\n",
        "import pandas as pd\n",
        "df = pd.DataFrame({'created_at':ats,\"id\":ids,\"text\":texts,\"truncated\":trs}) \n",
        "df.to_csv('data.csv', index=False, encoding='utf-8')"
      ],
      "execution_count": 18,
      "outputs": []
    },
    {
      "cell_type": "markdown",
      "metadata": {
        "id": "pEOtCDz1zTyZ",
        "colab_type": "text"
      },
      "source": [
        "<h1>\n",
        "    Search get detailled informations about a certain tweet whose (idd).\n",
        "    </h1>"
      ]
    },
    {
      "cell_type": "code",
      "metadata": {
        "id": "nNe-k9JwzTyd",
        "colab_type": "code",
        "colab": {}
      },
      "source": [
        "# Search for a tweet by its id; 'idd' is just taken from a tweet above.\n",
        "idd=1286505134122557442\n",
        "# tweet_mode : extended(compat) for more(less) informations about the results.\n",
        "# trim_user : True=to return only the user id, False: return all his informations.\n",
        "tweet=api.get_status(idd,trim_user=True,tweet_mode='extended')"
      ],
      "execution_count": 19,
      "outputs": []
    },
    {
      "cell_type": "code",
      "metadata": {
        "id": "dEiLp84qzTyo",
        "colab_type": "code",
        "colab": {}
      },
      "source": [
        "tweet._json"
      ],
      "execution_count": null,
      "outputs": []
    },
    {
      "cell_type": "code",
      "metadata": {
        "id": "mgdkkpbKzTyy",
        "colab_type": "code",
        "colab": {
          "base_uri": "https://localhost:8080/",
          "height": 105
        },
        "outputId": "05a93314-420b-4f19-ceef-2ca18149272f"
      },
      "source": [
        "# if : tweet_mode==extended, use tweet.full_text to access the tweet's text.\n",
        "# otherwise use tweet.text\n",
        "str(tweet.created_at),tweet.id,tweet.full_text,tweet.truncated"
      ],
      "execution_count": 21,
      "outputs": [
        {
          "output_type": "execute_result",
          "data": {
            "text/plain": [
              "('2020-07-24 03:35:00',\n",
              " 1286505134122557442,\n",
              " \"A 14-year-old #COVID19 patient was allegedly sexually assaulted inside Delhi's biggest quarantine facility, the Sardar Vallabhai Patel corona care centre, by two patients when she went outside to use washroom. \\nhttps://t.co/6bZzc7e6NN\",\n",
              " False)"
            ]
          },
          "metadata": {
            "tags": []
          },
          "execution_count": 21
        }
      ]
    },
    {
      "cell_type": "code",
      "metadata": {
        "id": "EdBx9i5fzTy_",
        "colab_type": "code",
        "colab": {}
      },
      "source": [
        "# Now search for user by id\n",
        "user_id=94761188\n",
        "user=api.get_user(user_id)"
      ],
      "execution_count": 22,
      "outputs": []
    },
    {
      "cell_type": "code",
      "metadata": {
        "collapsed": true,
        "id": "gtwRLrwwzTzJ",
        "colab_type": "code",
        "colab": {}
      },
      "source": [
        "user._json"
      ],
      "execution_count": null,
      "outputs": []
    },
    {
      "cell_type": "markdown",
      "metadata": {
        "id": "wkgQjsBizTzZ",
        "colab_type": "text"
      },
      "source": [
        "<h1>\n",
        "    Search for tweets published by a certain user identified  (user_id)\n",
        "    <"
      ]
    },
    {
      "cell_type": "code",
      "metadata": {
        "id": "4Vx4tFVCzTzc",
        "colab_type": "code",
        "colab": {}
      },
      "source": [
        "# Now search user timeline\n",
        "# the 'page' arg is the index of which page to access, 0: first page, 1: second page, 2: third.... so on.\n",
        "timeline=api.user_timeline(user_id, count=10, page=0, tweet_mode='extended')"
      ],
      "execution_count": 24,
      "outputs": []
    },
    {
      "cell_type": "code",
      "metadata": {
        "scrolled": false,
        "id": "KRdXcQ-EzTzl",
        "colab_type": "code",
        "colab": {}
      },
      "source": [
        "for tweet in timeline:\n",
        "    # if the tweet was actually retweeted by the user, you'll find the full text in the 'retweeted_status' key.\n",
        "    text=tweet.retweeted_status.full_text if 'retweeted_status' in tweet._json else tweet.full_text\n",
        "    print(f'{tweet.id},\\t{tweet.created_at},\\t{text},\\t{tweet.truncated}\\n\\n')\n",
        "# timeline[1]._json,'-++-'*30,timeline[3]._json"
      ],
      "execution_count": null,
      "outputs": []
    },
    {
      "cell_type": "code",
      "metadata": {
        "id": "PGBwGtrj0eUU",
        "colab_type": "code",
        "colab": {}
      },
      "source": [
        "ids=[tweet.id for tweet in timeline]\n",
        "ats=[tweet.created_at for tweet in timeline]\n",
        "texts=[tweet.retweeted_status.full_text   if 'retweeted_status' in tweet._json else tweet.full_text for tweet in timeline]\n",
        "trs=[tweet.truncated for tweet in timeline]\n",
        "\n",
        "df = pd.DataFrame({'created_at':ats,\"id\":ids,\"text\":texts,\"truncated\":trs}) \n",
        "df.to_csv('data2.csv', index=False, encoding='utf-8')"
      ],
      "execution_count": 26,
      "outputs": []
    }
  ]
}