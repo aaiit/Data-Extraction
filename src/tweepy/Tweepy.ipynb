{
 "cells": [
  {
   "cell_type": "code",
   "execution_count": 2,
   "metadata": {
    "colab": {},
    "colab_type": "code",
    "id": "YfvO2cGozTxH"
   },
   "outputs": [],
   "source": [
    "# Imports\n",
    "import tweepy\n",
    "from time import sleep\n",
    "import json\n",
    "import pandas as pd"
   ]
  },
  {
   "cell_type": "code",
   "execution_count": 3,
   "metadata": {
    "colab": {},
    "colab_type": "code",
    "id": "OxTeEL05zTxX"
   },
   "outputs": [],
   "source": [
    "# Constants\n",
    "consumer_key='UFkzPnRg6teYYVpopicJlHu2L'\n",
    "consumer_secret='CNuHKlXlI4nY2YtX1RFFwthZQ0ziebfkLfrxd6T6xZp9FX7w7P'"
   ]
  },
  {
   "cell_type": "code",
   "execution_count": 4,
   "metadata": {
    "colab": {},
    "colab_type": "code",
    "id": "Y77Z0nHGzTxi"
   },
   "outputs": [],
   "source": [
    "# Authentificate and construct the api\n",
    "auth = tweepy.OAuthHandler(consumer_key, consumer_secret)\n",
    "api=tweepy.API(auth,timeout=11)"
   ]
  },
  {
   "cell_type": "markdown",
   "metadata": {
    "colab_type": "text",
    "id": "qd-N30Y5zTxt"
   },
   "source": [
    "<h1> \n",
    "    Search for a list of tweets using a query.\n",
    "    </h1>"
   ]
  },
  {
   "cell_type": "code",
   "execution_count": 5,
   "metadata": {
    "colab": {},
    "colab_type": "code",
    "id": "5PSggi21zTxw"
   },
   "outputs": [],
   "source": [
    "# Search for tweets by keywords, and fields\n",
    "# query : text to look for.\n",
    "query='corona'\n",
    "# lang : language ,ISO-code\n",
    "# result_type : sort them by popularity or date\n",
    "# count : maximum of how many to return \n",
    "# include_entities : return used hashtags, and users mentionned in the tweet.\n",
    "results=api.search(q=query, lang='fr',result_type='mixed', count=100, include_entities=False)"
   ]
  },
  {
   "cell_type": "code",
   "execution_count": 6,
   "metadata": {
    "colab": {},
    "colab_type": "code",
    "id": "n4ajbTAozTx-"
   },
   "outputs": [],
   "source": [
    "# Iterate over the returned tweets, then print'em\n",
    "# for tweet in results:\n",
    "#     print(f\"{tweet.created_at},\\t {tweet.id},\\t {tweet.text},\\t {tweet.truncated}\\n\\n\")"
   ]
  },
  {
   "cell_type": "markdown",
   "metadata": {
    "colab_type": "text",
    "id": "2oBJfbjQzTyN"
   },
   "source": [
    "# Save Results"
   ]
  },
  {
   "cell_type": "code",
   "execution_count": 7,
   "metadata": {
    "colab": {},
    "colab_type": "code",
    "id": "ZJuF-aOzzTyP"
   },
   "outputs": [],
   "source": [
    "ats=[tweet.created_at for tweet in results]\n",
    "ids=[tweet.id for tweet in results]\n",
    "texts=[tweet.text for tweet in results]\n",
    "trs=[tweet.truncated for tweet in results]\n",
    "import pandas as pd\n",
    "df = pd.DataFrame({'created_at':ats,\"id\":ids,\"text\":texts,\"truncated\":trs}) \n",
    "df.to_csv('corona.csv', index=False, encoding='utf-8')"
   ]
  },
  {
   "cell_type": "markdown",
   "metadata": {
    "colab_type": "text",
    "id": "pEOtCDz1zTyZ"
   },
   "source": [
    "<h1>\n",
    "    Search get detailled informations about a certain tweet whose (idd).\n",
    "    </h1>"
   ]
  },
  {
   "cell_type": "code",
   "execution_count": 8,
   "metadata": {
    "colab": {},
    "colab_type": "code",
    "id": "nNe-k9JwzTyd"
   },
   "outputs": [],
   "source": [
    "# Search for a tweet by its id; 'idd' is just taken from a tweet above.\n",
    "idd=1286505134122557442\n",
    "# tweet_mode : extended(compat) for more(less) informations about the results.\n",
    "# trim_user : True=to return only the user id, False: return all his informations.\n",
    "tweet=api.get_status(idd,trim_user=True,tweet_mode='extended')"
   ]
  },
  {
   "cell_type": "code",
   "execution_count": 9,
   "metadata": {
    "colab": {},
    "colab_type": "code",
    "id": "dEiLp84qzTyo"
   },
   "outputs": [
    {
     "data": {
      "text/plain": [
       "{'created_at': 'Fri Jul 24 03:35:00 +0000 2020',\n",
       " 'id': 1286505134122557442,\n",
       " 'id_str': '1286505134122557442',\n",
       " 'full_text': \"A 14-year-old #COVID19 patient was allegedly sexually assaulted inside Delhi's biggest quarantine facility, the Sardar Vallabhai Patel corona care centre, by two patients when she went outside to use washroom. \\nhttps://t.co/6bZzc7e6NN\",\n",
       " 'truncated': False,\n",
       " 'display_text_range': [0, 234],\n",
       " 'entities': {'hashtags': [{'text': 'COVID19', 'indices': [14, 22]}],\n",
       "  'symbols': [],\n",
       "  'user_mentions': [],\n",
       "  'urls': [{'url': 'https://t.co/6bZzc7e6NN',\n",
       "    'expanded_url': 'https://www.newindianexpress.com/cities/delhi/2020/jul/23/14-year-old-covid-19-positive-girl-sexually-assaulted-by-another-patient-at-care-centre-in-delhi-2173888.html',\n",
       "    'display_url': 'newindianexpress.com/cities/delhi/2…',\n",
       "    'indices': [211, 234]}]},\n",
       " 'source': '<a href=\"https://buffer.com\" rel=\"nofollow\">Buffer</a>',\n",
       " 'in_reply_to_status_id': None,\n",
       " 'in_reply_to_status_id_str': None,\n",
       " 'in_reply_to_user_id': None,\n",
       " 'in_reply_to_user_id_str': None,\n",
       " 'in_reply_to_screen_name': None,\n",
       " 'user': {'id': 94761188, 'id_str': '94761188'},\n",
       " 'geo': None,\n",
       " 'coordinates': None,\n",
       " 'place': None,\n",
       " 'contributors': None,\n",
       " 'is_quote_status': False,\n",
       " 'retweet_count': 10,\n",
       " 'favorite_count': 15,\n",
       " 'favorited': False,\n",
       " 'retweeted': False,\n",
       " 'possibly_sensitive': False,\n",
       " 'possibly_sensitive_appealable': False,\n",
       " 'lang': 'en'}"
      ]
     },
     "execution_count": 9,
     "metadata": {},
     "output_type": "execute_result"
    }
   ],
   "source": [
    "tweet._json"
   ]
  },
  {
   "cell_type": "code",
   "execution_count": 10,
   "metadata": {
    "colab": {
     "base_uri": "https://localhost:8080/",
     "height": 105
    },
    "colab_type": "code",
    "id": "mgdkkpbKzTyy",
    "outputId": "05a93314-420b-4f19-ceef-2ca18149272f"
   },
   "outputs": [
    {
     "data": {
      "text/plain": [
       "('2020-07-24 03:35:00',\n",
       " 1286505134122557442,\n",
       " \"A 14-year-old #COVID19 patient was allegedly sexually assaulted inside Delhi's biggest quarantine facility, the Sardar Vallabhai Patel corona care centre, by two patients when she went outside to use washroom. \\nhttps://t.co/6bZzc7e6NN\",\n",
       " False)"
      ]
     },
     "execution_count": 10,
     "metadata": {},
     "output_type": "execute_result"
    }
   ],
   "source": [
    "# if : tweet_mode==extended, use tweet.full_text to access the tweet's text.\n",
    "# otherwise use tweet.text\n",
    "str(tweet.created_at),tweet.id,tweet.full_text,tweet.truncated"
   ]
  },
  {
   "cell_type": "code",
   "execution_count": 11,
   "metadata": {
    "colab": {},
    "colab_type": "code",
    "id": "EdBx9i5fzTy_"
   },
   "outputs": [],
   "source": [
    "# Now search for user by id\n",
    "user_id=94761188\n",
    "user=api.get_user(user_id)"
   ]
  },
  {
   "cell_type": "code",
   "execution_count": 12,
   "metadata": {
    "colab": {},
    "colab_type": "code",
    "id": "gtwRLrwwzTzJ"
   },
   "outputs": [
    {
     "data": {
      "text/plain": [
       "{'id': 94761188,\n",
       " 'id_str': '94761188',\n",
       " 'name': 'The New Indian Express',\n",
       " 'screen_name': 'NewIndianXpress',\n",
       " 'location': 'Chennai',\n",
       " 'profile_location': None,\n",
       " 'description': 'All the tweets for breaking news & views.\\nFacebook: https://t.co/2JWnDQzN07\\nYouTube: https://t.co/j6jQDbuEjK',\n",
       " 'url': 'https://t.co/bThxeYSjGT',\n",
       " 'entities': {'url': {'urls': [{'url': 'https://t.co/bThxeYSjGT',\n",
       "     'expanded_url': 'http://www.newindianexpress.com',\n",
       "     'display_url': 'newindianexpress.com',\n",
       "     'indices': [0, 23]}]},\n",
       "  'description': {'urls': [{'url': 'https://t.co/2JWnDQzN07',\n",
       "     'expanded_url': 'https://www.facebook.com/thenewindianxpress/',\n",
       "     'display_url': 'facebook.com/thenewindianxp…',\n",
       "     'indices': [52, 75]},\n",
       "    {'url': 'https://t.co/j6jQDbuEjK',\n",
       "     'expanded_url': 'https://www.youtube.com/user/thenewindianxpress/videos',\n",
       "     'display_url': 'youtube.com/user/thenewind…',\n",
       "     'indices': [85, 108]}]}},\n",
       " 'protected': False,\n",
       " 'followers_count': 445257,\n",
       " 'friends_count': 552,\n",
       " 'listed_count': 1401,\n",
       " 'created_at': 'Sat Dec 05 09:24:55 +0000 2009',\n",
       " 'favourites_count': 540,\n",
       " 'utc_offset': None,\n",
       " 'time_zone': None,\n",
       " 'geo_enabled': True,\n",
       " 'verified': True,\n",
       " 'statuses_count': 586711,\n",
       " 'lang': None,\n",
       " 'status': {'created_at': 'Sat Jul 25 12:15:00 +0000 2020',\n",
       "  'id': 1286998385216684033,\n",
       "  'id_str': '1286998385216684033',\n",
       "  'text': 'The US has announced that it will not take in any new foreign students seeking online-only study, after rescinding… https://t.co/a0MT4HlzVu',\n",
       "  'truncated': True,\n",
       "  'entities': {'hashtags': [],\n",
       "   'symbols': [],\n",
       "   'user_mentions': [],\n",
       "   'urls': [{'url': 'https://t.co/a0MT4HlzVu',\n",
       "     'expanded_url': 'https://twitter.com/i/web/status/1286998385216684033',\n",
       "     'display_url': 'twitter.com/i/web/status/1…',\n",
       "     'indices': [116, 139]}]},\n",
       "  'source': '<a href=\"https://buffer.com\" rel=\"nofollow\">Buffer</a>',\n",
       "  'in_reply_to_status_id': None,\n",
       "  'in_reply_to_status_id_str': None,\n",
       "  'in_reply_to_user_id': None,\n",
       "  'in_reply_to_user_id_str': None,\n",
       "  'in_reply_to_screen_name': None,\n",
       "  'geo': None,\n",
       "  'coordinates': None,\n",
       "  'place': None,\n",
       "  'contributors': None,\n",
       "  'is_quote_status': False,\n",
       "  'retweet_count': 0,\n",
       "  'favorite_count': 0,\n",
       "  'favorited': False,\n",
       "  'retweeted': False,\n",
       "  'possibly_sensitive': False,\n",
       "  'lang': 'en'},\n",
       " 'contributors_enabled': False,\n",
       " 'is_translator': False,\n",
       " 'is_translation_enabled': False,\n",
       " 'profile_background_color': '022330',\n",
       " 'profile_background_image_url': 'http://abs.twimg.com/images/themes/theme15/bg.png',\n",
       " 'profile_background_image_url_https': 'https://abs.twimg.com/images/themes/theme15/bg.png',\n",
       " 'profile_background_tile': True,\n",
       " 'profile_image_url': 'http://pbs.twimg.com/profile_images/1094836139217711105/gDLAVTWn_normal.jpg',\n",
       " 'profile_image_url_https': 'https://pbs.twimg.com/profile_images/1094836139217711105/gDLAVTWn_normal.jpg',\n",
       " 'profile_banner_url': 'https://pbs.twimg.com/profile_banners/94761188/1589957053',\n",
       " 'profile_link_color': '0000FF',\n",
       " 'profile_sidebar_border_color': 'FFFFFF',\n",
       " 'profile_sidebar_fill_color': 'C0DFEC',\n",
       " 'profile_text_color': '333333',\n",
       " 'profile_use_background_image': True,\n",
       " 'has_extended_profile': False,\n",
       " 'default_profile': False,\n",
       " 'default_profile_image': False,\n",
       " 'following': None,\n",
       " 'follow_request_sent': None,\n",
       " 'notifications': None,\n",
       " 'translator_type': 'none'}"
      ]
     },
     "execution_count": 12,
     "metadata": {},
     "output_type": "execute_result"
    }
   ],
   "source": [
    "user._json"
   ]
  },
  {
   "cell_type": "markdown",
   "metadata": {
    "colab_type": "text",
    "id": "wkgQjsBizTzZ"
   },
   "source": [
    "<h1>\n",
    "    Search for tweets published by a certain user identified  (user_id)\n",
    "    <"
   ]
  },
  {
   "cell_type": "code",
   "execution_count": 13,
   "metadata": {
    "colab": {},
    "colab_type": "code",
    "id": "4Vx4tFVCzTzc"
   },
   "outputs": [],
   "source": [
    "# Now search user timeline\n",
    "# the 'page' arg is the index of which page to access, 0: first page, 1: second page, 2: third.... so on.\n",
    "timelines=[api.user_timeline(user_id, count=10, page=i, tweet_mode='extended') for i in range(100)]"
   ]
  },
  {
   "cell_type": "code",
   "execution_count": 15,
   "metadata": {
    "colab": {},
    "colab_type": "code",
    "id": "KRdXcQ-EzTzl",
    "scrolled": false
   },
   "outputs": [
    {
     "name": "stdout",
     "output_type": "stream",
     "text": [
      "1286998385216684033,\t2020-07-25 12:15:00,\tThe US has announced that it will not take in any new foreign students seeking online-only study, after rescinding a hotly contested order to expel those already in the country and preparing for that because of the #COVID19Pandemic.\n",
      "#DonaldTrump\n",
      "https://t.co/MSotiaqCo3,\tFalse\n",
      "\n",
      "\n",
      "1286997804905164800,\t2020-07-25 12:12:42,\tChildren playing games without wearing mask in containment zone Jodugullapalem in Visakhapatnam @NewIndianXpress @xpressandhra @Kalyan_TNIE @shibasahu2012 @Ravindra_TNIE https://t.co/I9UzClrANF,\tFalse\n",
      "\n",
      "\n",
      "1286997187642023936,\t2020-07-25 12:10:15,\tA #farmer forced to use his #daughters instead of oxen to pull the plough in his fields, due to financial crisis during #lockdown, in  #Chittoor district.\n",
      "\n",
      "@NewIndianXpress @Kalyan_TNIE\n",
      "#COVID19 #coronavirus #agriculture #farming #labour #farmanimals https://t.co/NKhRRrExb6,\tFalse\n",
      "\n",
      "\n",
      "1286993581279006721,\t2020-07-25 11:55:55,\tHas #COVID19 brought to the fore a kinder India? The New Sunday Express Magazine finds out. There are other reading delights too as our promo video highlights. \n",
      "@gsvasu_TNIE @etteth @Sunday_Standard @khogensingh1 \n",
      "Subscribe here:  \n",
      "https://t.co/nShFvhJBBa https://t.co/iaYXZHaEIs,\tFalse\n",
      "\n",
      "\n",
      "1286993390068883456,\t2020-07-25 11:55:10,\tPondman Kaamegowda who has been admitted at Mandya institute of medical sciences after he tested positive. \"I am fine, no need to panic \" he tells. \n",
      "\n",
      "@NewIndianXpress @santwana99 @XpressBengaluru https://t.co/KJv1BTfKqo,\tFalse\n",
      "\n",
      "\n",
      "1286993348834754560,\t2020-07-25 11:55:00,\tA 22-year-old #COVID19 patient killed himself by jumping from the third floor of AIIMS building in Patna. Up to seven people have lost their lives in the state, by what appears to be a suicide, after being in quarantine. \n",
      "https://t.co/fac8i1c67P,\tFalse\n",
      "\n",
      "\n",
      "1286991760002969600,\t2020-07-25 11:48:41,\t#COVID19 update #Bhubaneswar\n",
      "\n",
      "Total cases: 1828\n",
      "From slums: 418\n",
      "Death: 11\n",
      "Active: 952\n",
      "\n",
      "Symptomatic: 764\n",
      "Asymptomatic: 1064\n",
      "\n",
      "Cases in last 10 days: 969\n",
      "Active: 873\n",
      "\n",
      "#Odisha #coronavirus\n",
      "@XpressOdisha @NewIndianXpress https://t.co/IYOxqdCyJr,\tFalse\n",
      "\n",
      "\n",
      "1286990832491405312,\t2020-07-25 11:45:00,\tJenburkt Pharmaceuticals has launched #COVID__19 anti-viral drug #Favipiravir under the brand name 'Favivent' to treat mild and moderate #coronavirus symptoms at Rs 39 per tablet.\n",
      "#CoronaVirusUpdates https://t.co/LGfcG6rID1,\tFalse\n",
      "\n",
      "\n",
      "1286989264140382208,\t2020-07-25 11:38:46,\tA medical staff getting samples from a woman for covid-19 test   at  urban health centre in Tirupati on Saturday  @NewIndianXpress @xpressandhra @Kalyan_TNIE @shibasahu2012 @Ravindra_TNIE https://t.co/yZulFrQonv,\tFalse\n",
      "\n",
      "\n",
      "1286988400160051200,\t2020-07-25 11:35:20,\tWith India mulling to invite Australia to join the next Malabar naval exercise, a top US diplomat has said that #Australia's participation along with other Quad members will be hugely beneficial in defending their mutual interests.\n",
      "https://t.co/SZhe8DXNFI,\tFalse\n",
      "\n",
      "\n"
     ]
    }
   ],
   "source": [
    "for tweet in timelines[0]:\n",
    "    # if the tweet was actually retweeted by the user, you'll find the full text in the 'retweeted_status' key.\n",
    "    text=tweet.retweeted_status.full_text if 'retweeted_status' in tweet._json else tweet.full_text\n",
    "    print(f'{tweet.id},\\t{tweet.created_at},\\t{text},\\t{tweet.truncated}\\n\\n')\n",
    "# timeline[1]._json,'-++-'*30,timeline[3]._json"
   ]
  },
  {
   "cell_type": "code",
   "execution_count": 19,
   "metadata": {
    "colab": {},
    "colab_type": "code",
    "id": "PGBwGtrj0eUU"
   },
   "outputs": [],
   "source": [
    "ids=[tweet.id  for timeline in timelines for tweet in timeline]\n",
    "ats=[tweet.created_at  for timeline in timelines for tweet in timeline]\n",
    "texts=[tweet.retweeted_status.full_text   if 'retweeted_status' in tweet._json else tweet.full_text for timeline in timelines for tweet in timeline ]\n",
    "trs=[tweet.truncated for timeline in timelines for tweet in timeline]\n",
    "\n",
    "df = pd.DataFrame({'created_at':ats,\"id\":ids,\"text\":texts,\"truncated\":trs}) \n",
    "df.to_csv('corona2.csv', index=False, encoding='utf-8')"
   ]
  },
  {
   "cell_type": "code",
   "execution_count": null,
   "metadata": {},
   "outputs": [],
   "source": []
  }
 ],
 "metadata": {
  "colab": {
   "name": "Tweepy-checkpoint.ipynb",
   "provenance": []
  },
  "kernelspec": {
   "display_name": "Python 3",
   "language": "python",
   "name": "python3"
  },
  "language_info": {
   "codemirror_mode": {
    "name": "ipython",
    "version": 3
   },
   "file_extension": ".py",
   "mimetype": "text/x-python",
   "name": "python",
   "nbconvert_exporter": "python",
   "pygments_lexer": "ipython3",
   "version": "3.7.3"
  }
 },
 "nbformat": 4,
 "nbformat_minor": 1
}
