{
 "cells": [
  {
   "cell_type": "code",
   "execution_count": 2,
   "metadata": {
    "colab": {},
    "colab_type": "code",
    "id": "YfvO2cGozTxH"
   },
   "outputs": [],
   "source": [
    "# Imports\n",
    "import tweepy\n",
    "from time import sleep\n",
    "import json\n",
    "import pandas as pd"
   ]
  },
  {
   "cell_type": "code",
   "execution_count": 3,
   "metadata": {
    "colab": {},
    "colab_type": "code",
    "id": "OxTeEL05zTxX"
   },
   "outputs": [],
   "source": [
    "# Constants\n",
    "consumer_key='UFkzPnRg6teYYVpopicJlHu2L'\n",
    "consumer_secret='CNuHKlXlI4nY2YtX1RFFwthZQ0ziebfkLfrxd6T6xZp9FX7w7P'"
   ]
  },
  {
   "cell_type": "code",
   "execution_count": 4,
   "metadata": {
    "colab": {},
    "colab_type": "code",
    "id": "Y77Z0nHGzTxi"
   },
   "outputs": [],
   "source": [
    "# Authentificate and construct the api\n",
    "auth = tweepy.OAuthHandler(consumer_key, consumer_secret)\n",
    "api=tweepy.API(auth,timeout=11)"
   ]
  },
  {
   "cell_type": "markdown",
   "metadata": {
    "colab_type": "text",
    "id": "qd-N30Y5zTxt"
   },
   "source": [
    "<h1> \n",
    "    Search for a list of tweets using a query.\n",
    "    </h1>"
   ]
  },
  {
   "cell_type": "code",
   "execution_count": 5,
   "metadata": {
    "colab": {},
    "colab_type": "code",
    "id": "5PSggi21zTxw"
   },
   "outputs": [],
   "source": [
    "# Search for tweets by keywords, and fields\n",
    "# query : text to look for.\n",
    "query='corona'\n",
    "# lang : language ,ISO-code\n",
    "# result_type : sort them by popularity or date\n",
    "# count : maximum of how many to return \n",
    "# include_entities : return used hashtags, and users mentionned in the tweet.\n",
    "results=api.search(q=query, lang='fr',result_type='mixed', count=1000, include_entities=False)"
   ]
  },
  {
   "cell_type": "code",
   "execution_count": 9,
   "metadata": {
    "colab": {},
    "colab_type": "code",
    "id": "n4ajbTAozTx-"
   },
   "outputs": [],
   "source": [
    "# Iterate over the returned tweets, then print'em\n",
    "results2=[tweet for tweet in tweepy.Cursor(api.search,q=query, lang='fr',result_type='mixed', count=1000, include_entities=False).items(200)]"
   ]
  },
  {
   "cell_type": "code",
   "execution_count": 11,
   "metadata": {},
   "outputs": [
    {
     "data": {
      "text/plain": [
       "Status(_api=<tweepy.api.API object at 0x7fc6d03b8880>, _json={'created_at': 'Sun Jul 19 12:11:23 +0000 2020', 'id': 1284823146193920002, 'id_str': '1284823146193920002', 'text': \"heureusement que j'ai miraculeusement trouve LA quasi seule blouse blanche de france capable de répondre autre chos… https://t.co/6P4mxmLqXW\", 'truncated': True, 'metadata': {'iso_language_code': 'fr', 'result_type': 'recent'}, 'source': '<a href=\"https://mobile.twitter.com\" rel=\"nofollow\">Twitter Web App</a>', 'in_reply_to_status_id': None, 'in_reply_to_status_id_str': None, 'in_reply_to_user_id': None, 'in_reply_to_user_id_str': None, 'in_reply_to_screen_name': None, 'user': {'id': 1066661650886008832, 'id_str': '1066661650886008832', 'name': 'Ellen Abavé', 'screen_name': 'EllenAgreaux', 'location': 'Montcuq, France', 'description': 'abort', 'url': None, 'entities': {'description': {'urls': []}}, 'protected': False, 'followers_count': 238, 'friends_count': 187, 'listed_count': 0, 'created_at': 'Sun Nov 25 11:55:29 +0000 2018', 'favourites_count': 26767, 'utc_offset': None, 'time_zone': None, 'geo_enabled': False, 'verified': False, 'statuses_count': 62867, 'lang': None, 'contributors_enabled': False, 'is_translator': False, 'is_translation_enabled': False, 'profile_background_color': 'F5F8FA', 'profile_background_image_url': None, 'profile_background_image_url_https': None, 'profile_background_tile': False, 'profile_image_url': 'http://pbs.twimg.com/profile_images/1076432427160137728/THa7ldYm_normal.jpg', 'profile_image_url_https': 'https://pbs.twimg.com/profile_images/1076432427160137728/THa7ldYm_normal.jpg', 'profile_banner_url': 'https://pbs.twimg.com/profile_banners/1066661650886008832/1543604747', 'profile_link_color': '1DA1F2', 'profile_sidebar_border_color': 'C0DEED', 'profile_sidebar_fill_color': 'DDEEF6', 'profile_text_color': '333333', 'profile_use_background_image': True, 'has_extended_profile': True, 'default_profile': True, 'default_profile_image': False, 'following': None, 'follow_request_sent': None, 'notifications': None, 'translator_type': 'none'}, 'geo': None, 'coordinates': None, 'place': None, 'contributors': None, 'is_quote_status': False, 'retweet_count': 0, 'favorite_count': 0, 'favorited': False, 'retweeted': False, 'lang': 'fr'}, created_at=datetime.datetime(2020, 7, 19, 12, 11, 23), id=1284823146193920002, id_str='1284823146193920002', text=\"heureusement que j'ai miraculeusement trouve LA quasi seule blouse blanche de france capable de répondre autre chos… https://t.co/6P4mxmLqXW\", truncated=True, metadata={'iso_language_code': 'fr', 'result_type': 'recent'}, source='Twitter Web App', source_url='https://mobile.twitter.com', in_reply_to_status_id=None, in_reply_to_status_id_str=None, in_reply_to_user_id=None, in_reply_to_user_id_str=None, in_reply_to_screen_name=None, author=User(_api=<tweepy.api.API object at 0x7fc6d03b8880>, _json={'id': 1066661650886008832, 'id_str': '1066661650886008832', 'name': 'Ellen Abavé', 'screen_name': 'EllenAgreaux', 'location': 'Montcuq, France', 'description': 'abort', 'url': None, 'entities': {'description': {'urls': []}}, 'protected': False, 'followers_count': 238, 'friends_count': 187, 'listed_count': 0, 'created_at': 'Sun Nov 25 11:55:29 +0000 2018', 'favourites_count': 26767, 'utc_offset': None, 'time_zone': None, 'geo_enabled': False, 'verified': False, 'statuses_count': 62867, 'lang': None, 'contributors_enabled': False, 'is_translator': False, 'is_translation_enabled': False, 'profile_background_color': 'F5F8FA', 'profile_background_image_url': None, 'profile_background_image_url_https': None, 'profile_background_tile': False, 'profile_image_url': 'http://pbs.twimg.com/profile_images/1076432427160137728/THa7ldYm_normal.jpg', 'profile_image_url_https': 'https://pbs.twimg.com/profile_images/1076432427160137728/THa7ldYm_normal.jpg', 'profile_banner_url': 'https://pbs.twimg.com/profile_banners/1066661650886008832/1543604747', 'profile_link_color': '1DA1F2', 'profile_sidebar_border_color': 'C0DEED', 'profile_sidebar_fill_color': 'DDEEF6', 'profile_text_color': '333333', 'profile_use_background_image': True, 'has_extended_profile': True, 'default_profile': True, 'default_profile_image': False, 'following': None, 'follow_request_sent': None, 'notifications': None, 'translator_type': 'none'}, id=1066661650886008832, id_str='1066661650886008832', name='Ellen Abavé', screen_name='EllenAgreaux', location='Montcuq, France', description='abort', url=None, entities={'description': {'urls': []}}, protected=False, followers_count=238, friends_count=187, listed_count=0, created_at=datetime.datetime(2018, 11, 25, 11, 55, 29), favourites_count=26767, utc_offset=None, time_zone=None, geo_enabled=False, verified=False, statuses_count=62867, lang=None, contributors_enabled=False, is_translator=False, is_translation_enabled=False, profile_background_color='F5F8FA', profile_background_image_url=None, profile_background_image_url_https=None, profile_background_tile=False, profile_image_url='http://pbs.twimg.com/profile_images/1076432427160137728/THa7ldYm_normal.jpg', profile_image_url_https='https://pbs.twimg.com/profile_images/1076432427160137728/THa7ldYm_normal.jpg', profile_banner_url='https://pbs.twimg.com/profile_banners/1066661650886008832/1543604747', profile_link_color='1DA1F2', profile_sidebar_border_color='C0DEED', profile_sidebar_fill_color='DDEEF6', profile_text_color='333333', profile_use_background_image=True, has_extended_profile=True, default_profile=True, default_profile_image=False, following=False, follow_request_sent=None, notifications=None, translator_type='none'), user=User(_api=<tweepy.api.API object at 0x7fc6d03b8880>, _json={'id': 1066661650886008832, 'id_str': '1066661650886008832', 'name': 'Ellen Abavé', 'screen_name': 'EllenAgreaux', 'location': 'Montcuq, France', 'description': 'abort', 'url': None, 'entities': {'description': {'urls': []}}, 'protected': False, 'followers_count': 238, 'friends_count': 187, 'listed_count': 0, 'created_at': 'Sun Nov 25 11:55:29 +0000 2018', 'favourites_count': 26767, 'utc_offset': None, 'time_zone': None, 'geo_enabled': False, 'verified': False, 'statuses_count': 62867, 'lang': None, 'contributors_enabled': False, 'is_translator': False, 'is_translation_enabled': False, 'profile_background_color': 'F5F8FA', 'profile_background_image_url': None, 'profile_background_image_url_https': None, 'profile_background_tile': False, 'profile_image_url': 'http://pbs.twimg.com/profile_images/1076432427160137728/THa7ldYm_normal.jpg', 'profile_image_url_https': 'https://pbs.twimg.com/profile_images/1076432427160137728/THa7ldYm_normal.jpg', 'profile_banner_url': 'https://pbs.twimg.com/profile_banners/1066661650886008832/1543604747', 'profile_link_color': '1DA1F2', 'profile_sidebar_border_color': 'C0DEED', 'profile_sidebar_fill_color': 'DDEEF6', 'profile_text_color': '333333', 'profile_use_background_image': True, 'has_extended_profile': True, 'default_profile': True, 'default_profile_image': False, 'following': None, 'follow_request_sent': None, 'notifications': None, 'translator_type': 'none'}, id=1066661650886008832, id_str='1066661650886008832', name='Ellen Abavé', screen_name='EllenAgreaux', location='Montcuq, France', description='abort', url=None, entities={'description': {'urls': []}}, protected=False, followers_count=238, friends_count=187, listed_count=0, created_at=datetime.datetime(2018, 11, 25, 11, 55, 29), favourites_count=26767, utc_offset=None, time_zone=None, geo_enabled=False, verified=False, statuses_count=62867, lang=None, contributors_enabled=False, is_translator=False, is_translation_enabled=False, profile_background_color='F5F8FA', profile_background_image_url=None, profile_background_image_url_https=None, profile_background_tile=False, profile_image_url='http://pbs.twimg.com/profile_images/1076432427160137728/THa7ldYm_normal.jpg', profile_image_url_https='https://pbs.twimg.com/profile_images/1076432427160137728/THa7ldYm_normal.jpg', profile_banner_url='https://pbs.twimg.com/profile_banners/1066661650886008832/1543604747', profile_link_color='1DA1F2', profile_sidebar_border_color='C0DEED', profile_sidebar_fill_color='DDEEF6', profile_text_color='333333', profile_use_background_image=True, has_extended_profile=True, default_profile=True, default_profile_image=False, following=False, follow_request_sent=None, notifications=None, translator_type='none'), geo=None, coordinates=None, place=None, contributors=None, is_quote_status=False, retweet_count=0, favorite_count=0, favorited=False, retweeted=False, lang='fr')"
      ]
     },
     "execution_count": 11,
     "metadata": {},
     "output_type": "execute_result"
    }
   ],
   "source": [
    "keys=['created_at','id_str','text','retweet_count','retweet_count','favorite_count']\n",
    "data=[{k:tweet._json[k] for k in keys} for tweet in results2]\n",
    "df=pd.DataFrame(data)\n",
    "df.to_"
   ]
  },
  {
   "cell_type": "markdown",
   "metadata": {
    "colab_type": "text",
    "id": "2oBJfbjQzTyN"
   },
   "source": [
    "# Save Results"
   ]
  },
  {
   "cell_type": "code",
   "execution_count": 6,
   "metadata": {
    "colab": {},
    "colab_type": "code",
    "id": "ZJuF-aOzzTyP"
   },
   "outputs": [],
   "source": [
    "ats=[tweet.created_at for tweet in results]\n",
    "ids=[tweet.id for tweet in results]\n",
    "texts=[tweet.text for tweet in results]\n",
    "trs=[tweet.truncated for tweet in results]\n",
    "\n",
    "df = pd.DataFrame({'created_at':ats,\"id\":ids,\"text\":texts,\"truncated\":trs}) \n",
    "df.to_csv('data.csv', index=False, encoding='utf-8')"
   ]
  },
  {
   "cell_type": "markdown",
   "metadata": {
    "colab_type": "text",
    "id": "pEOtCDz1zTyZ"
   },
   "source": [
    "<h1>\n",
    "    Search get detailled informations about a certain tweet whose (idd).\n",
    "    </h1>"
   ]
  },
  {
   "cell_type": "code",
   "execution_count": 19,
   "metadata": {
    "colab": {},
    "colab_type": "code",
    "id": "nNe-k9JwzTyd"
   },
   "outputs": [],
   "source": [
    "# Search for a tweet by its id; 'idd' is just taken from a tweet above.\n",
    "idd=1286505134122557442\n",
    "# tweet_mode : extended(compat) for more(less) informations about the results.\n",
    "# trim_user : True=to return only the user id, False: return all his informations.\n",
    "tweet=api.get_status(idd,trim_user=True,tweet_mode='extended')"
   ]
  },
  {
   "cell_type": "code",
   "execution_count": null,
   "metadata": {
    "colab": {},
    "colab_type": "code",
    "id": "dEiLp84qzTyo"
   },
   "outputs": [],
   "source": [
    "tweet._json"
   ]
  },
  {
   "cell_type": "code",
   "execution_count": 21,
   "metadata": {
    "colab": {
     "base_uri": "https://localhost:8080/",
     "height": 105
    },
    "colab_type": "code",
    "id": "mgdkkpbKzTyy",
    "outputId": "05a93314-420b-4f19-ceef-2ca18149272f"
   },
   "outputs": [
    {
     "data": {
      "text/plain": [
       "('2020-07-24 03:35:00',\n",
       " 1286505134122557442,\n",
       " \"A 14-year-old #COVID19 patient was allegedly sexually assaulted inside Delhi's biggest quarantine facility, the Sardar Vallabhai Patel corona care centre, by two patients when she went outside to use washroom. \\nhttps://t.co/6bZzc7e6NN\",\n",
       " False)"
      ]
     },
     "execution_count": 21,
     "metadata": {
      "tags": []
     },
     "output_type": "execute_result"
    }
   ],
   "source": [
    "# if : tweet_mode==extended, use tweet.full_text to access the tweet's text.\n",
    "# otherwise use tweet.text\n",
    "str(tweet.created_at),tweet.id,tweet.full_text,tweet.truncated"
   ]
  },
  {
   "cell_type": "code",
   "execution_count": 22,
   "metadata": {
    "colab": {},
    "colab_type": "code",
    "id": "EdBx9i5fzTy_"
   },
   "outputs": [],
   "source": [
    "# Now search for user by id\n",
    "user_id=94761188\n",
    "user=api.get_user(user_id)"
   ]
  },
  {
   "cell_type": "code",
   "execution_count": null,
   "metadata": {
    "colab": {},
    "colab_type": "code",
    "collapsed": true,
    "id": "gtwRLrwwzTzJ"
   },
   "outputs": [],
   "source": [
    "user._json"
   ]
  },
  {
   "cell_type": "markdown",
   "metadata": {
    "colab_type": "text",
    "id": "wkgQjsBizTzZ"
   },
   "source": [
    "<h1>\n",
    "    Search for tweets published by a certain user identified  (user_id)\n",
    "    <"
   ]
  },
  {
   "cell_type": "code",
   "execution_count": 24,
   "metadata": {
    "colab": {},
    "colab_type": "code",
    "id": "4Vx4tFVCzTzc"
   },
   "outputs": [],
   "source": [
    "# Now search user timeline\n",
    "# the 'page' arg is the index of which page to access, 0: first page, 1: second page, 2: third.... so on.\n",
    "timeline=api.user_timeline(user_id, count=10, page=0, tweet_mode='extended')"
   ]
  },
  {
   "cell_type": "code",
   "execution_count": null,
   "metadata": {
    "colab": {},
    "colab_type": "code",
    "id": "KRdXcQ-EzTzl",
    "scrolled": false
   },
   "outputs": [],
   "source": [
    "for tweet in timeline:\n",
    "    # if the tweet was actually retweeted by the user, you'll find the full text in the 'retweeted_status' key.\n",
    "    text=tweet.retweeted_status.full_text if 'retweeted_status' in tweet._json else tweet.full_text\n",
    "    print(f'{tweet.id},\\t{tweet.created_at},\\t{text},\\t{tweet.truncated}\\n\\n')\n",
    "# timeline[1]._json,'-++-'*30,timeline[3]._json"
   ]
  },
  {
   "cell_type": "code",
   "execution_count": 26,
   "metadata": {
    "colab": {},
    "colab_type": "code",
    "id": "PGBwGtrj0eUU"
   },
   "outputs": [],
   "source": [
    "ids=[tweet.id for tweet in timeline]\n",
    "ats=[tweet.created_at for tweet in timeline]\n",
    "texts=[tweet.retweeted_status.full_text   if 'retweeted_status' in tweet._json else tweet.full_text for tweet in timeline]\n",
    "trs=[tweet.truncated for tweet in timeline]\n",
    "\n",
    "df = pd.DataFrame({'created_at':ats,\"id\":ids,\"text\":texts,\"truncated\":trs}) \n",
    "df.to_csv('data2.csv', index=False, encoding='utf-8')"
   ]
  }
 ],
 "metadata": {
  "colab": {
   "name": "Tweepy-checkpoint.ipynb",
   "provenance": []
  },
  "kernelspec": {
   "display_name": "Python 3",
   "language": "python",
   "name": "python3"
  },
  "language_info": {
   "codemirror_mode": {
    "name": "ipython",
    "version": 3
   },
   "file_extension": ".py",
   "mimetype": "text/x-python",
   "name": "python",
   "nbconvert_exporter": "python",
   "pygments_lexer": "ipython3",
   "version": "3.8.2"
  }
 },
 "nbformat": 4,
 "nbformat_minor": 1
}
