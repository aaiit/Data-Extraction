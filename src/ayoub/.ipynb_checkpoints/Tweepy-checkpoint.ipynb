{
 "cells": [
  {
   "cell_type": "code",
   "execution_count": 1,
   "metadata": {
    "colab": {},
    "colab_type": "code",
    "id": "YfvO2cGozTxH"
   },
   "outputs": [],
   "source": [
    "# Imports\n",
    "import tweepy\n",
    "from time import sleep\n",
    "import json\n",
    "import pandas as pd"
   ]
  },
  {
   "cell_type": "code",
   "execution_count": 2,
   "metadata": {
    "colab": {},
    "colab_type": "code",
    "id": "OxTeEL05zTxX"
   },
   "outputs": [],
   "source": [
    "# Constants\n",
    "consumer_key='UFkzPnRg6teYYVpopicJlHu2L'\n",
    "consumer_secret='CNuHKlXlI4nY2YtX1RFFwthZQ0ziebfkLfrxd6T6xZp9FX7w7P'"
   ]
  },
  {
   "cell_type": "code",
   "execution_count": 3,
   "metadata": {
    "colab": {},
    "colab_type": "code",
    "id": "Y77Z0nHGzTxi"
   },
   "outputs": [],
   "source": [
    "# Authentificate and construct the api\n",
    "auth = tweepy.OAuthHandler(consumer_key, consumer_secret)\n",
    "api=tweepy.API(auth,timeout=11)"
   ]
  },
  {
   "cell_type": "markdown",
   "metadata": {
    "colab_type": "text",
    "id": "qd-N30Y5zTxt"
   },
   "source": [
    "<h1> \n",
    "    Search for a list of tweets using a query.\n",
    "    </h1>"
   ]
  },
  {
   "cell_type": "code",
   "execution_count": 4,
   "metadata": {
    "colab": {},
    "colab_type": "code",
    "id": "5PSggi21zTxw"
   },
   "outputs": [],
   "source": [
    "# Search for tweets by keywords, and fields\n",
    "# query : text to look for.\n",
    "query='corona'\n",
    "# lang : language ,ISO-code\n",
    "# result_type : sort them by popularity or date\n",
    "# count : maximum of how many to return \n",
    "# include_entities : return used hashtags, and users mentionned in the tweet.\n",
    "results=api.search(q=query, lang='fr',result_type='mixed', count=1000, include_entities=False)"
   ]
  },
  {
   "cell_type": "code",
   "execution_count": 19,
   "metadata": {
    "colab": {},
    "colab_type": "code",
    "id": "n4ajbTAozTx-"
   },
   "outputs": [],
   "source": [
    "# Get 200 tweets at once.\n",
    "results2=[tweet for tweet in tweepy.Cursor\n",
    "          (api.search,q=query, lang='fr',result_type='mixed', include_entities=False).items(200)]"
   ]
  },
  {
   "cell_type": "code",
   "execution_count": 22,
   "metadata": {},
   "outputs": [],
   "source": [
    "keys=['created_at','id_str','text','retweet_count','retweet_count','favorite_count']\n",
    "data=[{k:tweet._json[k] for k in keys} for tweet in results2]\n",
    "df=pd.DataFrame(data)\n",
    "df.to_csv('Coroooona.csv',index=False)"
   ]
  },
  {
   "cell_type": "markdown",
   "metadata": {
    "colab_type": "text",
    "id": "2oBJfbjQzTyN"
   },
   "source": [
    "# Save Results"
   ]
  },
  {
   "cell_type": "code",
   "execution_count": 7,
   "metadata": {
    "colab": {},
    "colab_type": "code",
    "id": "ZJuF-aOzzTyP"
   },
   "outputs": [],
   "source": [
    "ats=[tweet.created_at for tweet in results]\n",
    "ids=[tweet.id for tweet in results]\n",
    "texts=[tweet.text for tweet in results]\n",
    "trs=[tweet.truncated for tweet in results]\n",
    "\n",
    "df = pd.DataFrame({'created_at':ats,\"id\":ids,\"text\":texts,\"truncated\":trs}) \n",
    "df.to_csv('data.csv', index=False, encoding='utf-8')"
   ]
  },
  {
   "cell_type": "markdown",
   "metadata": {
    "colab_type": "text",
    "id": "pEOtCDz1zTyZ"
   },
   "source": [
    "<h1>\n",
    "    Search get detailled informations about a certain tweet whose (idd).\n",
    "    </h1>"
   ]
  },
  {
   "cell_type": "code",
   "execution_count": 18,
   "metadata": {
    "colab": {},
    "colab_type": "code",
    "id": "nNe-k9JwzTyd"
   },
   "outputs": [],
   "source": [
    "# Search for a tweet by its id; 'idd' is just taken from a tweet above.\n",
    "idd=1286505134122557442\n",
    "# tweet_mode : extended(compat) for more(less) informations about the results.\n",
    "# trim_user : True=to return only the user id, False: return all his informations.\n",
    "tweet=api.get_status(idd,trim_user=True,tweet_mode='extended')"
   ]
  },
  {
   "cell_type": "code",
   "execution_count": 9,
   "metadata": {
    "colab": {},
    "colab_type": "code",
    "id": "dEiLp84qzTyo"
   },
   "outputs": [
    {
     "data": {
      "text/plain": [
       "{'created_at': 'Fri Jul 24 03:35:00 +0000 2020',\n",
       " 'id': 1286505134122557442,\n",
       " 'id_str': '1286505134122557442',\n",
       " 'full_text': \"A 14-year-old #COVID19 patient was allegedly sexually assaulted inside Delhi's biggest quarantine facility, the Sardar Vallabhai Patel corona care centre, by two patients when she went outside to use washroom. \\nhttps://t.co/6bZzc7e6NN\",\n",
       " 'truncated': False,\n",
       " 'display_text_range': [0, 234],\n",
       " 'entities': {'hashtags': [{'text': 'COVID19', 'indices': [14, 22]}],\n",
       "  'symbols': [],\n",
       "  'user_mentions': [],\n",
       "  'urls': [{'url': 'https://t.co/6bZzc7e6NN',\n",
       "    'expanded_url': 'https://www.newindianexpress.com/cities/delhi/2020/jul/23/14-year-old-covid-19-positive-girl-sexually-assaulted-by-another-patient-at-care-centre-in-delhi-2173888.html',\n",
       "    'display_url': 'newindianexpress.com/cities/delhi/2…',\n",
       "    'indices': [211, 234]}]},\n",
       " 'source': '<a href=\"https://buffer.com\" rel=\"nofollow\">Buffer</a>',\n",
       " 'in_reply_to_status_id': None,\n",
       " 'in_reply_to_status_id_str': None,\n",
       " 'in_reply_to_user_id': None,\n",
       " 'in_reply_to_user_id_str': None,\n",
       " 'in_reply_to_screen_name': None,\n",
       " 'user': {'id': 94761188, 'id_str': '94761188'},\n",
       " 'geo': None,\n",
       " 'coordinates': None,\n",
       " 'place': None,\n",
       " 'contributors': None,\n",
       " 'is_quote_status': False,\n",
       " 'retweet_count': 10,\n",
       " 'favorite_count': 15,\n",
       " 'favorited': False,\n",
       " 'retweeted': False,\n",
       " 'possibly_sensitive': False,\n",
       " 'possibly_sensitive_appealable': False,\n",
       " 'lang': 'en'}"
      ]
     },
     "execution_count": 9,
     "metadata": {},
     "output_type": "execute_result"
    }
   ],
   "source": [
    "tweet._json"
   ]
  },
  {
   "cell_type": "code",
   "execution_count": 10,
   "metadata": {
    "colab": {
     "base_uri": "https://localhost:8080/",
     "height": 105
    },
    "colab_type": "code",
    "id": "mgdkkpbKzTyy",
    "outputId": "05a93314-420b-4f19-ceef-2ca18149272f"
   },
   "outputs": [
    {
     "data": {
      "text/plain": [
       "('2020-07-24 03:35:00',\n",
       " 1286505134122557442,\n",
       " \"A 14-year-old #COVID19 patient was allegedly sexually assaulted inside Delhi's biggest quarantine facility, the Sardar Vallabhai Patel corona care centre, by two patients when she went outside to use washroom. \\nhttps://t.co/6bZzc7e6NN\",\n",
       " False)"
      ]
     },
     "execution_count": 10,
     "metadata": {},
     "output_type": "execute_result"
    }
   ],
   "source": [
    "# if : tweet_mode==extended, use tweet.full_text to access the tweet's text.\n",
    "# otherwise use tweet.text\n",
    "str(tweet.created_at),tweet.id,tweet.full_text,tweet.truncated"
   ]
  },
  {
   "cell_type": "code",
   "execution_count": 11,
   "metadata": {
    "colab": {},
    "colab_type": "code",
    "id": "EdBx9i5fzTy_"
   },
   "outputs": [],
   "source": [
    "# Now search for user by id\n",
    "user_id=94761188\n",
    "user=api.get_user(user_id)"
   ]
  },
  {
   "cell_type": "code",
   "execution_count": 12,
   "metadata": {
    "colab": {},
    "colab_type": "code",
    "id": "gtwRLrwwzTzJ"
   },
   "outputs": [
    {
     "data": {
      "text/plain": [
       "{'id': 94761188,\n",
       " 'id_str': '94761188',\n",
       " 'name': 'The New Indian Express',\n",
       " 'screen_name': 'NewIndianXpress',\n",
       " 'location': 'Chennai',\n",
       " 'profile_location': None,\n",
       " 'description': 'All the tweets for breaking news & views.\\nFacebook: https://t.co/2JWnDQzN07\\nYouTube: https://t.co/j6jQDbuEjK',\n",
       " 'url': 'https://t.co/bThxeYSjGT',\n",
       " 'entities': {'url': {'urls': [{'url': 'https://t.co/bThxeYSjGT',\n",
       "     'expanded_url': 'http://www.newindianexpress.com',\n",
       "     'display_url': 'newindianexpress.com',\n",
       "     'indices': [0, 23]}]},\n",
       "  'description': {'urls': [{'url': 'https://t.co/2JWnDQzN07',\n",
       "     'expanded_url': 'https://www.facebook.com/thenewindianxpress/',\n",
       "     'display_url': 'facebook.com/thenewindianxp…',\n",
       "     'indices': [52, 75]},\n",
       "    {'url': 'https://t.co/j6jQDbuEjK',\n",
       "     'expanded_url': 'https://www.youtube.com/user/thenewindianxpress/videos',\n",
       "     'display_url': 'youtube.com/user/thenewind…',\n",
       "     'indices': [85, 108]}]}},\n",
       " 'protected': False,\n",
       " 'followers_count': 445259,\n",
       " 'friends_count': 552,\n",
       " 'listed_count': 1401,\n",
       " 'created_at': 'Sat Dec 05 09:24:55 +0000 2009',\n",
       " 'favourites_count': 540,\n",
       " 'utc_offset': None,\n",
       " 'time_zone': None,\n",
       " 'geo_enabled': True,\n",
       " 'verified': True,\n",
       " 'statuses_count': 586724,\n",
       " 'lang': None,\n",
       " 'status': {'created_at': 'Sat Jul 25 12:39:50 +0000 2020',\n",
       "  'id': 1287004633643151360,\n",
       "  'id_str': '1287004633643151360',\n",
       "  'text': 'RT @Harpreet_TNIE: Congress General Secretary Priyanka Gandhi Vadra shifted to her eight room pent house in Gurugram#Hry @Newindianxpress,…',\n",
       "  'truncated': False,\n",
       "  'entities': {'hashtags': [],\n",
       "   'symbols': [],\n",
       "   'user_mentions': [{'screen_name': 'Harpreet_TNIE',\n",
       "     'name': 'Harpreet Singh Bajwa',\n",
       "     'id': 1451497940,\n",
       "     'id_str': '1451497940',\n",
       "     'indices': [3, 17]},\n",
       "    {'screen_name': 'NewIndianXpress',\n",
       "     'name': 'The New Indian Express',\n",
       "     'id': 94761188,\n",
       "     'id_str': '94761188',\n",
       "     'indices': [121, 137]}],\n",
       "   'urls': []},\n",
       "  'source': '<a href=\"https://about.twitter.com/products/tweetdeck\" rel=\"nofollow\">TweetDeck</a>',\n",
       "  'in_reply_to_status_id': None,\n",
       "  'in_reply_to_status_id_str': None,\n",
       "  'in_reply_to_user_id': None,\n",
       "  'in_reply_to_user_id_str': None,\n",
       "  'in_reply_to_screen_name': None,\n",
       "  'geo': None,\n",
       "  'coordinates': None,\n",
       "  'place': None,\n",
       "  'contributors': None,\n",
       "  'retweeted_status': {'created_at': 'Sat Jul 25 12:39:15 +0000 2020',\n",
       "   'id': 1287004483910660098,\n",
       "   'id_str': '1287004483910660098',\n",
       "   'text': 'Congress General Secretary Priyanka Gandhi Vadra shifted to her eight room pent house in Gurugram#Hry… https://t.co/6M4z3ylXov',\n",
       "   'truncated': True,\n",
       "   'entities': {'hashtags': [],\n",
       "    'symbols': [],\n",
       "    'user_mentions': [],\n",
       "    'urls': [{'url': 'https://t.co/6M4z3ylXov',\n",
       "      'expanded_url': 'https://twitter.com/i/web/status/1287004483910660098',\n",
       "      'display_url': 'twitter.com/i/web/status/1…',\n",
       "      'indices': [103, 126]}]},\n",
       "   'source': '<a href=\"https://mobile.twitter.com\" rel=\"nofollow\">Twitter Web App</a>',\n",
       "   'in_reply_to_status_id': None,\n",
       "   'in_reply_to_status_id_str': None,\n",
       "   'in_reply_to_user_id': None,\n",
       "   'in_reply_to_user_id_str': None,\n",
       "   'in_reply_to_screen_name': None,\n",
       "   'geo': None,\n",
       "   'coordinates': None,\n",
       "   'place': None,\n",
       "   'contributors': None,\n",
       "   'is_quote_status': False,\n",
       "   'retweet_count': 2,\n",
       "   'favorite_count': 3,\n",
       "   'favorited': False,\n",
       "   'retweeted': False,\n",
       "   'lang': 'en'},\n",
       "  'is_quote_status': False,\n",
       "  'retweet_count': 2,\n",
       "  'favorite_count': 0,\n",
       "  'favorited': False,\n",
       "  'retweeted': False,\n",
       "  'lang': 'en'},\n",
       " 'contributors_enabled': False,\n",
       " 'is_translator': False,\n",
       " 'is_translation_enabled': False,\n",
       " 'profile_background_color': '022330',\n",
       " 'profile_background_image_url': 'http://abs.twimg.com/images/themes/theme15/bg.png',\n",
       " 'profile_background_image_url_https': 'https://abs.twimg.com/images/themes/theme15/bg.png',\n",
       " 'profile_background_tile': True,\n",
       " 'profile_image_url': 'http://pbs.twimg.com/profile_images/1094836139217711105/gDLAVTWn_normal.jpg',\n",
       " 'profile_image_url_https': 'https://pbs.twimg.com/profile_images/1094836139217711105/gDLAVTWn_normal.jpg',\n",
       " 'profile_banner_url': 'https://pbs.twimg.com/profile_banners/94761188/1589957053',\n",
       " 'profile_link_color': '0000FF',\n",
       " 'profile_sidebar_border_color': 'FFFFFF',\n",
       " 'profile_sidebar_fill_color': 'C0DFEC',\n",
       " 'profile_text_color': '333333',\n",
       " 'profile_use_background_image': True,\n",
       " 'has_extended_profile': False,\n",
       " 'default_profile': False,\n",
       " 'default_profile_image': False,\n",
       " 'following': None,\n",
       " 'follow_request_sent': None,\n",
       " 'notifications': None,\n",
       " 'translator_type': 'none'}"
      ]
     },
     "execution_count": 12,
     "metadata": {},
     "output_type": "execute_result"
    }
   ],
   "source": [
    "user._json"
   ]
  },
  {
   "cell_type": "markdown",
   "metadata": {
    "colab_type": "text",
    "id": "wkgQjsBizTzZ"
   },
   "source": [
    "<h1>\n",
    "    Search for tweets published by a certain user identified  (user_id)\n",
    "    <"
   ]
  },
  {
   "cell_type": "code",
   "execution_count": 48,
   "metadata": {
    "colab": {},
    "colab_type": "code",
    "collapsed": true,
    "id": "4Vx4tFVCzTzc"
   },
   "outputs": [
    {
     "name": "stdout",
     "output_type": "stream",
     "text": [
      "{\n",
      "    \"created_at\": \"Sat Jul 25 13:15:00 +0000 2020\",\n",
      "    \"id\": 1287013484409102337,\n",
      "    \"id_str\": \"1287013484409102337\",\n",
      "    \"full_text\": \"As the flood situation in Bihar worsens with around 9.60 lakhs of people affected totally, food packets are being air-dropped in the worst-affected districts of the state by three #IAF helicopters summoned by the state government.\\n#BiharFlood\\nhttps://t.co/PhjqD0AbY9\",\n",
      "    \"truncated\": false,\n",
      "    \"display_text_range\": [\n",
      "        0,\n",
      "        266\n",
      "    ],\n",
      "    \"source\": \"<a href=\\\"https://buffer.com\\\" rel=\\\"nofollow\\\">Buffer</a>\",\n",
      "    \"in_reply_to_status_id\": null,\n",
      "    \"in_reply_to_status_id_str\": null,\n",
      "    \"in_reply_to_user_id\": null,\n",
      "    \"in_reply_to_user_id_str\": null,\n",
      "    \"in_reply_to_screen_name\": null,\n",
      "    \"user\": {\n",
      "        \"id\": 94761188,\n",
      "        \"id_str\": \"94761188\"\n",
      "    },\n",
      "    \"geo\": null,\n",
      "    \"coordinates\": null,\n",
      "    \"place\": null,\n",
      "    \"contributors\": null,\n",
      "    \"is_quote_status\": false,\n",
      "    \"retweet_count\": 0,\n",
      "    \"favorite_count\": 2,\n",
      "    \"favorited\": false,\n",
      "    \"retweeted\": false,\n",
      "    \"possibly_sensitive\": false,\n",
      "    \"lang\": \"en\"\n",
      "}\n"
     ]
    }
   ],
   "source": [
    "# Now search user timeline\n",
    "# the 'page' arg is the index of which page to access, 0: first page, 1: second page, 2: third.... so on.\n",
    "timeline=api.user_timeline(user_id, count=20, page=0, include_entities=False, tweet_mode='extended',trim_user=True)"
   ]
  },
  {
   "cell_type": "code",
   "execution_count": 51,
   "metadata": {},
   "outputs": [
    {
     "name": "stdout",
     "output_type": "stream",
     "text": [
      "{\n",
      "    \"created_at\": \"Sat Jul 25 13:06:12 +0000 2020\",\n",
      "    \"id\": 1287011266494488577,\n",
      "    \"id_str\": \"1287011266494488577\",\n",
      "    \"full_text\": \"The Karnataka government announced waiver of crematorium fees for those who succumb to the #COVID19 virus in Bengaluru and said that the city civic body would bear the cost.\\n@XpressBengaluru\\n \\nFollow #COVID19 LIVE updates here.\\nhttps://t.co/EZGfUdYlTJ\",\n",
      "    \"truncated\": false,\n",
      "    \"display_text_range\": [\n",
      "        0,\n",
      "        251\n",
      "    ],\n",
      "    \"source\": \"<a href=\\\"https://mobile.twitter.com\\\" rel=\\\"nofollow\\\">Twitter Web App</a>\",\n",
      "    \"in_reply_to_status_id\": 1287002980974116864,\n",
      "    \"in_reply_to_status_id_str\": \"1287002980974116864\",\n",
      "    \"in_reply_to_user_id\": 94761188,\n",
      "    \"in_reply_to_user_id_str\": \"94761188\",\n",
      "    \"in_reply_to_screen_name\": \"NewIndianXpress\",\n",
      "    \"user\": {\n",
      "        \"id\": 94761188,\n",
      "        \"id_str\": \"94761188\"\n",
      "    },\n",
      "    \"geo\": null,\n",
      "    \"coordinates\": null,\n",
      "    \"place\": null,\n",
      "    \"contributors\": null,\n",
      "    \"is_quote_status\": false,\n",
      "    \"retweet_count\": 0,\n",
      "    \"favorite_count\": 2,\n",
      "    \"favorited\": false,\n",
      "    \"retweeted\": false,\n",
      "    \"possibly_sensitive\": false,\n",
      "    \"lang\": \"en\"\n",
      "}\n"
     ]
    }
   ],
   "source": [
    "print(json.dumps(timeline[4]._json,indent=4))"
   ]
  },
  {
   "cell_type": "code",
   "execution_count": 24,
   "metadata": {
    "colab": {},
    "colab_type": "code",
    "collapsed": true,
    "id": "KRdXcQ-EzTzl"
   },
   "outputs": [
    {
     "name": "stdout",
     "output_type": "stream",
     "text": [
      "1287009938347143168,\t2020-07-25 13:00:55,\t\"When it comes to our platform, we don't have an academic year so every month someone can join in and take a course, giving you a lot more flexibility,\"  said co-founder and chairman of @upGrad_edu, @RonnieScrewvala at #ExpressExpressions.\n",
      "@kavereeb @PrabhuChawla @gsvasu_TNIE https://t.co/nHBOyZr8JB,\tFalse\n",
      "\n",
      "\n",
      "1287008449449074689,\t2020-07-25 12:55:00,\tFrom #JohnHopkins to the University of Copenhagen, no institute was far for this 16-year-old from Kerala in love with learning, during the #COVIDー19 #lockdown. \n",
      " @xpresskerala @MSKiranPrakash @gsvasu_TNIE @PrabhuChawla \n",
      "https://t.co/dkKxhXaLtb,\tFalse\n",
      "\n",
      "\n",
      "1287006349172199425,\t2020-07-25 12:46:39,\tPollution returns to #Yamuna as toxic foam was found flowing on the river waters.\n",
      "Visuals from Delhi's Kalindi Kunj where people were seen fishing on the polluted waters.\n",
      "\n",
      "Express Photo | @Shekharyadav02 https://t.co/EImhqwkq19,\tFalse\n",
      "\n",
      "\n",
      "1287004633643151360,\t2020-07-25 12:39:50,\tCongress General Secretary Priyanka Gandhi Vadra shifted to her eight room pent house in Gurugram#Hry @Newindianxpress, @SundayStandard, @TheMornStandard,\tFalse\n",
      "\n",
      "\n",
      "1287004474779693056,\t2020-07-25 12:39:12,\t#Kerala #Covid19 Local transmission cases:\n",
      "Thiruvananthapuram - 218 (of 240 cases)\n",
      "Kozhikode - 104 (Total:110) \n",
      "Kasaragod - 88 (Total: 105)\n",
      "Ernakulam - 73 (Total: 79) \n",
      "Kottayam - 67 (Total: 77)\n",
      "Kollam - 63 (Total: 80)\n",
      "(cont'd..)\n",
      "@xpresskerala \n",
      "@NewIndianXpress \n",
      "@MSKiranPrakash,\tFalse\n",
      "\n",
      "\n",
      "1287003973128314881,\t2020-07-25 12:37:13,\t#GoodNews for #boozers: #AndhraPradesh government issued an order according permission to government-run liquor shops #apsbcl till 9pm across the #State. \n",
      "@NewIndianXpress\n",
      "@xpressandhra\n",
      "#ExciseDepartment\n",
      "#LiquorBaninAP https://t.co/ByM1bFxziW,\tFalse\n",
      "\n",
      "\n",
      "1287003897937108992,\t2020-07-25 12:36:55,\tDistrict wise Corona updates for today @xpresstn @NewIndianXpress https://t.co/sS1RBe9l5r,\tFalse\n",
      "\n",
      "\n",
      "1287003784971870208,\t2020-07-25 12:36:28,\tMore than 20K tests were done of which 1142 tested positive of #COVID19 \n",
      "2137 recovered from the virus, 12K plus remains active cases.\n",
      "29 more fatalities @NewIndianXpress @TheMornStandard #coronavirus https://t.co/LEN3Zi3uYw,\tFalse\n",
      "\n",
      "\n",
      "1287002980974116864,\t2020-07-25 12:33:16,\tNational Task Force on #COVIDー19 has decided not to recommend #itolizumab in the national protocol for treating the infection for now, despite the drug regulator's decision to authorize its emergency use recently.\n",
      "@SumiSukanya \n",
      "https://t.co/qOuQGQTOOY,\tFalse\n",
      "\n",
      "\n",
      "1287002157409943555,\t2020-07-25 12:30:00,\t\"If I have a CV which says I've done an online course now, the probability of it getting as recognised as an offline course is going to be important,\" said co-founder and chairman of @upGrad_edu, @RonnieScrewvala at #ExpressExpressions.\n",
      "@kavereeb @PrabhuChawla @gsvasu_TNIE https://t.co/7rWGSRJ2rI,\tFalse\n",
      "\n",
      "\n"
     ]
    }
   ],
   "source": [
    "for tweet in timeline:\n",
    "    # if the tweet was actually retweeted by the user, you'll find the full text in the 'retweeted_status' key.\n",
    "    text=tweet.retweeted_status.full_text if 'retweeted_status' in tweet._json else tweet.full_text\n",
    "    print(f'{tweet.id},\\t{tweet.created_at},\\t{text},\\t{tweet.truncated}\\n\\n')\n",
    "# timeline[1]._json,'-++-'*30,timeline[3]._json"
   ]
  },
  {
   "cell_type": "code",
   "execution_count": 16,
   "metadata": {
    "colab": {},
    "colab_type": "code",
    "id": "PGBwGtrj0eUU"
   },
   "outputs": [],
   "source": [
    "ids=[tweet.id for tweet in timeline]\n",
    "ats=[tweet.created_at for tweet in timeline]\n",
    "texts=[tweet.retweeted_status.full_text   if 'retweeted_status' in tweet._json else tweet.full_text for tweet in timeline]\n",
    "trs=[tweet.truncated for tweet in timeline]\n",
    "\n",
    "df = pd.DataFrame({'created_at':ats,\"id\":ids,\"text\":texts,\"truncated\":trs}) \n",
    "df.to_csv('data2.csv', index=False, encoding='utf-8')"
   ]
  },
  {
   "cell_type": "code",
   "execution_count": 74,
   "metadata": {},
   "outputs": [],
   "source": [
    "replies=[rep for rep in tweepy.Cursor(api.search,q='to:BTSPublicity',since_id='1286843045862936576',result_type='mixed'\n",
    "                                      ,tweet_mode='extended',trim_user=True).items(10)]"
   ]
  },
  {
   "cell_type": "code",
   "execution_count": 75,
   "metadata": {},
   "outputs": [
    {
     "name": "stdout",
     "output_type": "stream",
     "text": [
      "2020-07-25 14:13:40 @BTSPublicity @BTS_twt @BTS_twt \n",
      "\n",
      "\n",
      "2020-07-25 14:13:33 @BTSPublicity @geniusmyg9393 @BTS_twt Min yoongi #MTVHottest BTS @BTS_twt \n",
      "\n",
      "\n",
      "2020-07-25 14:12:27 @BTSPublicity @choi_bts2 @BTS_twt #MTVHottest BTS @BTS_twt \n",
      "\n",
      "\n",
      "2020-07-25 14:12:15 @BTSPublicity @BTS_twt this is so sexc #MTVHottest BTS @BTS_twt \n",
      "\n",
      "\n",
      "2020-07-25 14:10:58 @BTSPublicity @BTS_twt #MTVHottest BTS @BTS_twt \n",
      "\n",
      "\n",
      "2020-07-25 14:10:53 @BTSPublicity @BTS_twt @BTS_twt \n",
      "\n",
      "\n",
      "2020-07-25 14:10:25 @BTSPublicity @girlsgenratlon @BTS_twt #MTVHottest BTS @BTS_twt \n",
      "\n",
      "\n",
      "2020-07-25 14:10:05 @BTSPublicity @girlsgenratlon @BTS_twt #MTVHottest BTS @BTS_twt \n",
      "\n",
      "\n",
      "2020-07-25 14:09:52 @BTSPublicity @BTS_twt yoongi 💟💟💟💜💜💜💜\n",
      "\n",
      "#MTVHottest BTS  @BTS_twt \n",
      "\n",
      "\n",
      "2020-07-25 14:07:23 @BTSPublicity @tom7rrow @BTS_twt #MTVHottest BTS @BTS_twt https://t.co/Cfc0Gd6JDr \n",
      "\n",
      "\n"
     ]
    }
   ],
   "source": [
    "for rep in replies:\n",
    "    print(rep.created_at,rep.full_text,'\\n\\n')"
   ]
  },
  {
   "cell_type": "code",
   "execution_count": 78,
   "metadata": {},
   "outputs": [],
   "source": [
    "def get_replies(api,user_screen_name,tweet_id,query='',count=10,max_explored=100):\n",
    "    replies=[]\n",
    "    for reply in tweepy.Cursor(api.search,q=f'to:{user_screen_name}', since_id=tweet_id,\n",
    "                             trim_user=True,tweet_mode='extended',result_type='recent',timeout=max_explored//10).items(max_explored):\n",
    "        # check if this tweet is a reply     and     it's a reply to 'tweet_id'      and it's related to the 'query'.\n",
    "        if hasattr(reply, 'in_reply_to_status_id') and reply.in_reply_to_status_id==tweet_id and query in reply.full_text:\n",
    "            replies.append(reply)\n",
    "        # After getting 'count' tweets related to 'query', return them\n",
    "        if len(replies)>=count:\n",
    "            break\n",
    "    return replies"
   ]
  },
  {
   "cell_type": "code",
   "execution_count": 73,
   "metadata": {},
   "outputs": [],
   "source": [
    "def get_tweets(api,query,count,trim_user,)"
   ]
  },
  {
   "cell_type": "code",
   "execution_count": 77,
   "metadata": {},
   "outputs": [
    {
     "name": "stdout",
     "output_type": "stream",
     "text": [
      "2020-07-25 14:10:58 904400290626994176 @BTSPublicity @BTS_twt #MTVHottest BTS @BTS_twt \n",
      "\n",
      "\n",
      "2020-07-25 13:55:19 1274026814130790400 @BTSPublicity @BTS_twt #MTVHottest BTS @BTS_twt \n",
      "\n",
      "\n",
      "2020-07-25 13:50:46 1214196087902240768 @BTSPublicity @BTS_twt #MTVHottest BTS @BTS_twt \n",
      "\n",
      "\n"
     ]
    }
   ],
   "source": []
  }
 ],
 "metadata": {
  "colab": {
   "name": "Tweepy-checkpoint.ipynb",
   "provenance": []
  },
  "kernelspec": {
   "display_name": "Python 3",
   "language": "python",
   "name": "python3"
  },
  "language_info": {
   "codemirror_mode": {
    "name": "ipython",
    "version": 3
   },
   "file_extension": ".py",
   "mimetype": "text/x-python",
   "name": "python",
   "nbconvert_exporter": "python",
   "pygments_lexer": "ipython3",
   "version": "3.8.2"
  }
 },
 "nbformat": 4,
 "nbformat_minor": 1
}
